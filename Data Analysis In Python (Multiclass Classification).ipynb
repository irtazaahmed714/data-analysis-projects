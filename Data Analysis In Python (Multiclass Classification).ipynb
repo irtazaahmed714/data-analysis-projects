{
 "cells": [
  {
   "cell_type": "markdown",
   "metadata": {},
   "source": [
    "# Data Analysis In Python | Multiclass Classification"
   ]
  },
  {
   "cell_type": "markdown",
   "metadata": {
    "id": "xkNwIgbTHcUB"
   },
   "source": [
    "**Importing necessary libraries**"
   ]
  },
  {
   "cell_type": "code",
   "execution_count": 1,
   "metadata": {
    "id": "gilbDjQxIuuD"
   },
   "outputs": [],
   "source": [
    "import numpy as np\n",
    "import pandas as pd\n",
    "import matplotlib.pyplot as plt\n",
    "import seaborn as sns\n",
    "from xgboost import XGBClassifier\n",
    "from sklearn.model_selection import train_test_split\n",
    "from imblearn.over_sampling import SMOTEN\n",
    "from scipy.stats import chi2_contingency\n",
    "import warnings\n",
    "warnings.filterwarnings(\"ignore\")\n",
    "from sklearn.metrics import confusion_matrix, classification_report, accuracy_score, f1_score, precision_score, recall_score"
   ]
  },
  {
   "cell_type": "markdown",
   "metadata": {},
   "source": [
    "**Reading the dataset**"
   ]
  },
  {
   "cell_type": "code",
   "execution_count": 2,
   "metadata": {
    "colab": {
     "base_uri": "https://localhost:8080/",
     "height": 112
    },
    "id": "VzntX4nrHSQj",
    "outputId": "01f68d33-e379-406c-d367-89998cca6526"
   },
   "outputs": [
    {
     "data": {
      "text/html": [
       "<div>\n",
       "<style scoped>\n",
       "    .dataframe tbody tr th:only-of-type {\n",
       "        vertical-align: middle;\n",
       "    }\n",
       "\n",
       "    .dataframe tbody tr th {\n",
       "        vertical-align: top;\n",
       "    }\n",
       "\n",
       "    .dataframe thead th {\n",
       "        text-align: right;\n",
       "    }\n",
       "</style>\n",
       "<table border=\"1\" class=\"dataframe\">\n",
       "  <thead>\n",
       "    <tr style=\"text-align: right;\">\n",
       "      <th></th>\n",
       "      <th>buying price</th>\n",
       "      <th>maintenance cost</th>\n",
       "      <th>number of doors</th>\n",
       "      <th>number of persons</th>\n",
       "      <th>lug boot</th>\n",
       "      <th>safety</th>\n",
       "      <th>class</th>\n",
       "    </tr>\n",
       "  </thead>\n",
       "  <tbody>\n",
       "    <tr>\n",
       "      <th>401</th>\n",
       "      <td>vhigh</td>\n",
       "      <td>low</td>\n",
       "      <td>4</td>\n",
       "      <td>more</td>\n",
       "      <td>med</td>\n",
       "      <td>high</td>\n",
       "      <td>acc</td>\n",
       "    </tr>\n",
       "    <tr>\n",
       "      <th>1023</th>\n",
       "      <td>med</td>\n",
       "      <td>high</td>\n",
       "      <td>3</td>\n",
       "      <td>more</td>\n",
       "      <td>big</td>\n",
       "      <td>low</td>\n",
       "      <td>unacc</td>\n",
       "    </tr>\n",
       "  </tbody>\n",
       "</table>\n",
       "</div>"
      ],
      "text/plain": [
       "     buying price maintenance cost number of doors number of persons lug boot  \\\n",
       "401         vhigh              low               4              more      med   \n",
       "1023          med             high               3              more      big   \n",
       "\n",
       "     safety  class  \n",
       "401    high    acc  \n",
       "1023    low  unacc  "
      ]
     },
     "execution_count": 2,
     "metadata": {},
     "output_type": "execute_result"
    }
   ],
   "source": [
    "df = pd.read_excel(\"car.xlsx\")\n",
    "df.sample(2)"
   ]
  },
  {
   "cell_type": "markdown",
   "metadata": {
    "id": "NlVeoNL552Pd"
   },
   "source": [
    "**Checking for missing values**"
   ]
  },
  {
   "cell_type": "code",
   "execution_count": 3,
   "metadata": {
    "colab": {
     "base_uri": "https://localhost:8080/"
    },
    "id": "JsBg22_p5ETW",
    "outputId": "69bc5341-0aee-457b-c0e1-531b929fb756"
   },
   "outputs": [
    {
     "data": {
      "text/plain": [
       "buying price         0\n",
       "maintenance cost     0\n",
       "number of doors      0\n",
       "number of persons    0\n",
       "lug boot             0\n",
       "safety               0\n",
       "class                0\n",
       "dtype: int64"
      ]
     },
     "execution_count": 3,
     "metadata": {},
     "output_type": "execute_result"
    }
   ],
   "source": [
    "df.isnull().sum()"
   ]
  },
  {
   "cell_type": "markdown",
   "metadata": {
    "id": "oPJUrRnyH_Ln"
   },
   "source": [
    "**There are no missing values**"
   ]
  },
  {
   "cell_type": "markdown",
   "metadata": {
    "id": "Hkzoy_7u582N"
   },
   "source": [
    "**Checking for and removing duplicates (if any)**"
   ]
  },
  {
   "cell_type": "code",
   "execution_count": 4,
   "metadata": {
    "colab": {
     "base_uri": "https://localhost:8080/"
    },
    "id": "BgBlCbGz5IcR",
    "outputId": "2665c1f9-3810-4381-eaaa-ebacf0881e3e"
   },
   "outputs": [
    {
     "name": "stdout",
     "output_type": "stream",
     "text": [
      "(1728, 7)\n",
      "(1728, 7)\n"
     ]
    }
   ],
   "source": [
    "print (df.shape)\n",
    "df = df.drop_duplicates()\n",
    "print (df.shape)"
   ]
  },
  {
   "cell_type": "markdown",
   "metadata": {
    "id": "OWf290NOID2n"
   },
   "source": [
    "**No duplicates found**"
   ]
  },
  {
   "cell_type": "markdown",
   "metadata": {},
   "source": [
    "**Checking data distribution in the feature \"Number Of Doors\"**"
   ]
  },
  {
   "cell_type": "code",
   "execution_count": 5,
   "metadata": {
    "colab": {
     "base_uri": "https://localhost:8080/"
    },
    "id": "8LGaoMTzINar",
    "outputId": "a2b0ef7f-d92b-45a3-92d3-29032843004f"
   },
   "outputs": [
    {
     "data": {
      "text/plain": [
       "number of doors\n",
       "2        432\n",
       "3        432\n",
       "4        432\n",
       "5more    432\n",
       "Name: count, dtype: int64"
      ]
     },
     "execution_count": 5,
     "metadata": {},
     "output_type": "execute_result"
    }
   ],
   "source": [
    "df['number of doors'].value_counts()"
   ]
  },
  {
   "cell_type": "markdown",
   "metadata": {},
   "source": [
    "**Checking data distribution in the feature \"Number Of Persons\"**"
   ]
  },
  {
   "cell_type": "code",
   "execution_count": 6,
   "metadata": {
    "colab": {
     "base_uri": "https://localhost:8080/"
    },
    "id": "DJ6n8TqdISYO",
    "outputId": "395a9e55-6ff2-4609-9494-aa62362930d3"
   },
   "outputs": [
    {
     "data": {
      "text/plain": [
       "number of persons\n",
       "2       576\n",
       "4       576\n",
       "more    576\n",
       "Name: count, dtype: int64"
      ]
     },
     "execution_count": 6,
     "metadata": {},
     "output_type": "execute_result"
    }
   ],
   "source": [
    "df['number of persons'].value_counts()"
   ]
  },
  {
   "cell_type": "markdown",
   "metadata": {
    "id": "VUXArVN26g75"
   },
   "source": [
    "**Since the columns \"number of doors\" and \"number of persons\" are discrete variables, therefore, they should be converted to categorical data type**"
   ]
  },
  {
   "cell_type": "markdown",
   "metadata": {},
   "source": [
    "**Converting to categorical data type and checking the new data distribution**"
   ]
  },
  {
   "cell_type": "code",
   "execution_count": 7,
   "metadata": {
    "id": "Vhyx68YkyK8a"
   },
   "outputs": [
    {
     "name": "stdout",
     "output_type": "stream",
     "text": [
      "number of doors\n",
      "two             432\n",
      "three           432\n",
      "four            432\n",
      "five or more    432\n",
      "Name: count, dtype: int64\n",
      "number of persons\n",
      "two     576\n",
      "four    576\n",
      "more    576\n",
      "Name: count, dtype: int64\n"
     ]
    }
   ],
   "source": [
    "df.replace ({\"number of doors\": {2: 'two', 3:'three', 4: 'four', \"5more\" : 'five or more'}},\n",
    "            inplace = True)\n",
    "df.replace ({\"number of persons\": {2: 'two', 4: 'four'}}, inplace = True)\n",
    "\n",
    "print (df['number of doors'].value_counts())\n",
    "print (df['number of persons'].value_counts())"
   ]
  },
  {
   "cell_type": "markdown",
   "metadata": {
    "id": "DS_IR57wItEg"
   },
   "source": [
    "**Checking data types of columns**"
   ]
  },
  {
   "cell_type": "code",
   "execution_count": 8,
   "metadata": {
    "colab": {
     "base_uri": "https://localhost:8080/"
    },
    "id": "J16I2sM-66zH",
    "outputId": "1752cc7c-ba5f-41b8-b0d3-a9d297de94f2"
   },
   "outputs": [
    {
     "data": {
      "text/plain": [
       "buying price         object\n",
       "maintenance cost     object\n",
       "number of doors      object\n",
       "number of persons    object\n",
       "lug boot             object\n",
       "safety               object\n",
       "class                object\n",
       "dtype: object"
      ]
     },
     "execution_count": 8,
     "metadata": {},
     "output_type": "execute_result"
    }
   ],
   "source": [
    "df.dtypes"
   ]
  },
  {
   "cell_type": "markdown",
   "metadata": {
    "id": "KkK2gCjv7AJ7"
   },
   "source": [
    "**Checking for class distribution in the target column to see if the dataset is balanced or imbalanaced**"
   ]
  },
  {
   "cell_type": "code",
   "execution_count": 9,
   "metadata": {
    "colab": {
     "base_uri": "https://localhost:8080/"
    },
    "id": "CSEa_fEV55dQ",
    "outputId": "3a8cdbd5-b9be-4c35-9f5f-9cbbc2e79bec"
   },
   "outputs": [
    {
     "data": {
      "text/plain": [
       "class\n",
       "unacc    0.700231\n",
       "acc      0.222222\n",
       "good     0.039931\n",
       "vgood    0.037616\n",
       "Name: proportion, dtype: float64"
      ]
     },
     "execution_count": 9,
     "metadata": {},
     "output_type": "execute_result"
    }
   ],
   "source": [
    "df['class'].value_counts(normalize=True)"
   ]
  },
  {
   "cell_type": "markdown",
   "metadata": {
    "id": "RWvNVgAc7Re1"
   },
   "source": [
    "**The dataset is highly imbalanced, so we're gonna have to oversampling**"
   ]
  },
  {
   "cell_type": "markdown",
   "metadata": {
    "id": "p9nd_89SJBra"
   },
   "source": [
    "**Converting the various classes in the target column to integer type**"
   ]
  },
  {
   "cell_type": "code",
   "execution_count": 10,
   "metadata": {
    "id": "r4U3r7xdyyY2"
   },
   "outputs": [],
   "source": [
    "df.replace ({\"class\": {'unacc' : 0, 'acc': 1, 'good': 2, 'vgood': 3}}, inplace = True)"
   ]
  },
  {
   "cell_type": "markdown",
   "metadata": {
    "id": "0de2g4XHJqLI"
   },
   "source": [
    "**Converting categorical features from 'object' to 'category' data type for classification models**"
   ]
  },
  {
   "cell_type": "code",
   "execution_count": 11,
   "metadata": {
    "id": "bSX3lPfUcRT4"
   },
   "outputs": [],
   "source": [
    "categorical_features = ['buying price', 'maintenance cost', 'number of doors',\n",
    "                        'number of persons', 'lug boot', 'safety']\n",
    "\n",
    "for feature in categorical_features:\n",
    "    df[feature] = df[feature].astype('category')"
   ]
  },
  {
   "cell_type": "markdown",
   "metadata": {
    "id": "GjwdychoJ3pr"
   },
   "source": [
    "**Separating dependent and independent featues**"
   ]
  },
  {
   "cell_type": "code",
   "execution_count": 12,
   "metadata": {
    "id": "zrbWdqtZc3WS"
   },
   "outputs": [],
   "source": [
    "x = df.drop('class', axis=1)\n",
    "y = df['class']"
   ]
  },
  {
   "cell_type": "markdown",
   "metadata": {
    "id": "n-yNUhbNKOo8"
   },
   "source": [
    "**Applying the appropriate oversampling technique just for training the model (not for data analysis)**"
   ]
  },
  {
   "cell_type": "code",
   "execution_count": 13,
   "metadata": {
    "id": "2dqDZgfldNQF"
   },
   "outputs": [],
   "source": [
    "os = SMOTEN()\n",
    "x_os, y_os = os.fit_resample(x, y)"
   ]
  },
  {
   "cell_type": "markdown",
   "metadata": {
    "id": "ZKe8IaHOKfaO"
   },
   "source": [
    "**Checking for class distribution in the oversampled data**"
   ]
  },
  {
   "cell_type": "code",
   "execution_count": 14,
   "metadata": {
    "colab": {
     "base_uri": "https://localhost:8080/"
    },
    "id": "EJJCScnUiCES",
    "outputId": "529e8935-d69d-4978-df8a-f8995c2b7568"
   },
   "outputs": [
    {
     "data": {
      "text/plain": [
       "class\n",
       "0    0.25\n",
       "1    0.25\n",
       "3    0.25\n",
       "2    0.25\n",
       "Name: proportion, dtype: float64"
      ]
     },
     "execution_count": 14,
     "metadata": {},
     "output_type": "execute_result"
    }
   ],
   "source": [
    "y_os.value_counts(normalize=True)"
   ]
  },
  {
   "cell_type": "markdown",
   "metadata": {
    "id": "S0UjhaNg7-sE"
   },
   "source": [
    "**The dataset is now balanced**"
   ]
  },
  {
   "cell_type": "markdown",
   "metadata": {
    "id": "irmlC63_Kq9S"
   },
   "source": [
    "**Making train and test splits**"
   ]
  },
  {
   "cell_type": "code",
   "execution_count": 15,
   "metadata": {
    "id": "GOcpEFSmdEP7"
   },
   "outputs": [],
   "source": [
    "x_train_os, x_test_os, y_train_os, y_test_os = train_test_split(x_os, y_os, test_size=0.2,\n",
    "                                                                random_state=0, stratify = y_os)"
   ]
  },
  {
   "cell_type": "markdown",
   "metadata": {
    "id": "8EzoWzZaLfRf"
   },
   "source": [
    "**Creating an XGBoost model with categorical features specified, model training and evaluation**"
   ]
  },
  {
   "cell_type": "code",
   "execution_count": 16,
   "metadata": {
    "colab": {
     "base_uri": "https://localhost:8080/"
    },
    "id": "Nkkg4J8jcO5h",
    "outputId": "a1f7fa05-ec7b-40bf-9d3a-ffefa1e8250d"
   },
   "outputs": [
    {
     "name": "stdout",
     "output_type": "stream",
     "text": [
      "Accuracy On Training Data: 98.88946280991735\n",
      "Accuracy On Test Data: 98.4504132231405\n",
      "Correct predictions on training data: 3829\n",
      "Incorrect predictions on training data: 43\n",
      "Correct predictions on test data: 953\n",
      "Incorrect predictions on test data: 15\n",
      "F1 Score on training data: 0.988901221961623\n",
      "F1 Score on test data: 0.9844933064225112\n",
      "Precision on training data: 0.989\n",
      "Precision on test data: 0.985\n",
      "Recall on training data: 0.989\n",
      "Recall on test data: 0.985\n",
      "Confusion Matrix of training data:\n",
      " [[937  31   0   0]\n",
      " [  1 961   5   1]\n",
      " [  0   1 967   0]\n",
      " [  0   1   3 964]]\n",
      "Confusion Matrix of test data:\n",
      " [[230  12   0   0]\n",
      " [  0 239   1   2]\n",
      " [  0   0 242   0]\n",
      " [  0   0   0 242]]\n",
      "Classification Report Of Training Data:\n",
      "               precision    recall  f1-score   support\n",
      "\n",
      "           0     0.9989    0.9680    0.9832       968\n",
      "           1     0.9668    0.9928    0.9796       968\n",
      "           2     0.9918    0.9990    0.9954       968\n",
      "           3     0.9990    0.9959    0.9974       968\n",
      "\n",
      "    accuracy                         0.9889      3872\n",
      "   macro avg     0.9891    0.9889    0.9889      3872\n",
      "weighted avg     0.9891    0.9889    0.9889      3872\n",
      "\n",
      "Classification Report Of Test Data:\n",
      "               precision    recall  f1-score   support\n",
      "\n",
      "           0     1.0000    0.9504    0.9746       242\n",
      "           1     0.9522    0.9876    0.9696       242\n",
      "           2     0.9959    1.0000    0.9979       242\n",
      "           3     0.9918    1.0000    0.9959       242\n",
      "\n",
      "    accuracy                         0.9845       968\n",
      "   macro avg     0.9850    0.9845    0.9845       968\n",
      "weighted avg     0.9850    0.9845    0.9845       968\n",
      "\n"
     ]
    }
   ],
   "source": [
    "xg = XGBClassifier(objective='multi:softmax', num_class=4, eval_metric='mlogloss',\n",
    "                   enable_categorical=True, tree_method=\"hist\", n_estimators=10)\n",
    "\n",
    "xg.fit(x_train_os, y_train_os, verbose=True)\n",
    "\n",
    "y_pred_train_os = xg.predict (x_train_os)\n",
    "y_pred_test_os  = xg.predict (x_test_os)\n",
    "\n",
    "training_data_accuracy = accuracy_score(y_pred_train_os, y_train_os)\n",
    "print (\"Accuracy On Training Data:\", training_data_accuracy*100)\n",
    "\n",
    "test_data_accuracy = accuracy_score(y_pred_test_os, y_test_os)\n",
    "print (\"Accuracy On Test Data:\", test_data_accuracy*100)\n",
    "\n",
    "print (\"Correct predictions on training data:\", sum (y_train_os == y_pred_train_os))\n",
    "print (\"Incorrect predictions on training data:\", sum (y_train_os != y_pred_train_os))\n",
    "\n",
    "print (\"Correct predictions on test data:\", sum (y_test_os == y_pred_test_os))\n",
    "print (\"Incorrect predictions on test data:\", sum (y_test_os != y_pred_test_os))\n",
    "\n",
    "print (\"F1 Score on training data:\", f1_score(y_train_os, y_pred_train_os, average = 'weighted'))\n",
    "print (\"F1 Score on test data:\", f1_score(y_test_os, y_pred_test_os, average = 'weighted'))\n",
    "\n",
    "print('Precision on training data: %.3f' % precision_score(y_train_os, y_pred_train_os, average = 'weighted'))\n",
    "print('Precision on test data: %.3f' % precision_score(y_test_os, y_pred_test_os, average = 'weighted'))\n",
    "\n",
    "print('Recall on training data: %.3f' % recall_score(y_train_os, y_pred_train_os, average = 'weighted'))\n",
    "print('Recall on test data: %.3f' % recall_score(y_test_os, y_pred_test_os, average = 'weighted'))\n",
    "\n",
    "print (\"Confusion Matrix of training data:\\n\", confusion_matrix(y_train_os , y_pred_train_os))\n",
    "print (\"Confusion Matrix of test data:\\n\", confusion_matrix(y_test_os , y_pred_test_os))\n",
    "\n",
    "print (\"Classification Report Of Training Data:\\n\", classification_report (y_train_os, y_pred_train_os, digits = 4))\n",
    "print (\"Classification Report Of Test Data:\\n\", classification_report (y_test_os, y_pred_test_os, digits = 4))"
   ]
  },
  {
   "cell_type": "markdown",
   "metadata": {
    "id": "81lcnqpJN0dC"
   },
   "source": [
    "**We got a good model but the objective here is data analysis, so we'll have to work with the original dataset since working with the oversampled dataset can introduce biases and distort the true representation of the underlying data**"
   ]
  },
  {
   "cell_type": "markdown",
   "metadata": {
    "id": "EBS_f1eoOa2D"
   },
   "source": [
    "**Making train and test splits of the original dataset**"
   ]
  },
  {
   "cell_type": "code",
   "execution_count": 17,
   "metadata": {
    "id": "ZHf7V-20jTW1"
   },
   "outputs": [],
   "source": [
    "x_train, x_test, y_train, y_test = train_test_split (x, y, test_size = 0.2,\n",
    "                                                     random_state=0, stratify = y)"
   ]
  },
  {
   "cell_type": "markdown",
   "metadata": {
    "id": "R1MFGHlUPB_d"
   },
   "source": [
    "**Creating a new xgboost model with categorical features specified, training it on the original dataset and evaluations**"
   ]
  },
  {
   "cell_type": "code",
   "execution_count": 18,
   "metadata": {
    "colab": {
     "base_uri": "https://localhost:8080/"
    },
    "id": "T5PODJKWj-5J",
    "outputId": "1de6d42f-809a-44c9-d964-61893ff3df88"
   },
   "outputs": [
    {
     "name": "stdout",
     "output_type": "stream",
     "text": [
      "Accuracy On Training Data: 97.9739507959479\n",
      "Accuracy On Test Data: 96.82080924855492\n",
      "Correct predictions on training data: 1354\n",
      "Incorrect predictions on training data: 28\n",
      "Correct predictions on test data: 335\n",
      "Incorrect predictions on test data: 11\n",
      "F1 Score on training data: 0.9799944904120347\n",
      "F1 Score on test data: 0.968260748079976\n",
      "Precision on training data: 0.981\n",
      "Precision on test data: 0.969\n",
      "Recall on training data: 0.980\n",
      "Recall on test data: 0.968\n",
      "Confusion Matrix of training data:\n",
      " [[954  14   0   0]\n",
      " [  0 298   8   1]\n",
      " [  0   1  50   4]\n",
      " [  0   0   0  52]]\n",
      "Confusion Matrix of test data:\n",
      " [[237   5   0   0]\n",
      " [  1  75   1   0]\n",
      " [  0   1  11   2]\n",
      " [  0   1   0  12]]\n",
      "Classification Report Of Training Data:\n",
      "               precision    recall  f1-score   support\n",
      "\n",
      "           0     1.0000    0.9855    0.9927       968\n",
      "           1     0.9521    0.9707    0.9613       307\n",
      "           2     0.8621    0.9091    0.8850        55\n",
      "           3     0.9123    1.0000    0.9541        52\n",
      "\n",
      "    accuracy                         0.9797      1382\n",
      "   macro avg     0.9316    0.9663    0.9483      1382\n",
      "weighted avg     0.9806    0.9797    0.9800      1382\n",
      "\n",
      "Classification Report Of Test Data:\n",
      "               precision    recall  f1-score   support\n",
      "\n",
      "           0     0.9958    0.9793    0.9875       242\n",
      "           1     0.9146    0.9740    0.9434        77\n",
      "           2     0.9167    0.7857    0.8462        14\n",
      "           3     0.8571    0.9231    0.8889        13\n",
      "\n",
      "    accuracy                         0.9682       346\n",
      "   macro avg     0.9211    0.9155    0.9165       346\n",
      "weighted avg     0.9693    0.9682    0.9683       346\n",
      "\n"
     ]
    }
   ],
   "source": [
    "xgb = XGBClassifier(objective='multi:softmax', num_class=4, eval_metric='mlogloss',\n",
    "                    enable_categorical=True, tree_method=\"hist\", n_estimators=10)\n",
    "\n",
    "xgb.fit(x_train, y_train, verbose=True)\n",
    "\n",
    "y_pred_train = xgb.predict (x_train)\n",
    "y_pred_test  = xgb.predict (x_test)\n",
    "\n",
    "training_data_accuracy = accuracy_score(y_pred_train, y_train)\n",
    "print (\"Accuracy On Training Data:\", training_data_accuracy*100)\n",
    "\n",
    "test_data_accuracy = accuracy_score(y_pred_test, y_test)\n",
    "print (\"Accuracy On Test Data:\", test_data_accuracy*100)\n",
    "\n",
    "print (\"Correct predictions on training data:\", sum (y_train == y_pred_train))\n",
    "print (\"Incorrect predictions on training data:\", sum (y_train != y_pred_train))\n",
    "\n",
    "print (\"Correct predictions on test data:\", sum (y_test == y_pred_test))\n",
    "print (\"Incorrect predictions on test data:\", sum (y_test != y_pred_test))\n",
    "\n",
    "print (\"F1 Score on training data:\", f1_score(y_train, y_pred_train, average = 'weighted'))\n",
    "print (\"F1 Score on test data:\", f1_score(y_test, y_pred_test, average = 'weighted'))\n",
    "\n",
    "print('Precision on training data: %.3f' % precision_score(y_train, y_pred_train, average = 'weighted'))\n",
    "print('Precision on test data: %.3f' % precision_score(y_test, y_pred_test, average = 'weighted'))\n",
    "\n",
    "print('Recall on training data: %.3f' % recall_score(y_train, y_pred_train, average = 'weighted'))\n",
    "print('Recall on test data: %.3f' % recall_score(y_test, y_pred_test, average = 'weighted'))\n",
    "\n",
    "print (\"Confusion Matrix of training data:\\n\", confusion_matrix(y_train , y_pred_train))\n",
    "print (\"Confusion Matrix of test data:\\n\", confusion_matrix(y_test , y_pred_test))\n",
    "\n",
    "print (\"Classification Report Of Training Data:\\n\", classification_report (y_train, y_pred_train, digits = 4))\n",
    "print (\"Classification Report Of Test Data:\\n\", classification_report (y_test, y_pred_test, digits = 4))"
   ]
  },
  {
   "cell_type": "markdown",
   "metadata": {
    "id": "dkBZtO_yPcsn"
   },
   "source": [
    "**Getting feature importances from trained model**"
   ]
  },
  {
   "cell_type": "code",
   "execution_count": 19,
   "metadata": {
    "colab": {
     "base_uri": "https://localhost:8080/"
    },
    "id": "IBPyjOGvUpUJ",
    "outputId": "18545698-e5f1-4be2-d2c3-5f1e514c55c9"
   },
   "outputs": [
    {
     "name": "stdout",
     "output_type": "stream",
     "text": [
      "             Feature  Importance\n",
      "3  number of persons   38.301147\n",
      "5             safety   23.498472\n",
      "0       buying price   14.056401\n",
      "1   maintenance cost   11.770155\n",
      "4           lug boot    8.274761\n",
      "2    number of doors    4.099063\n"
     ]
    }
   ],
   "source": [
    "feature_importances_xgb = xgb.feature_importances_\n",
    "\n",
    "importance_df_xgb = pd.DataFrame({'Feature': x_train.columns,\n",
    "                                  'Importance': feature_importances_xgb*100})\n",
    "\n",
    "importance_df_xgb = importance_df_xgb.sort_values(by='Importance', ascending=False)\n",
    "\n",
    "print(importance_df_xgb)"
   ]
  },
  {
   "cell_type": "markdown",
   "metadata": {
    "id": "c3ob5xQJPv47"
   },
   "source": [
    "**Seems like the model has given the most importance to the feature \"number of persons\", followed by \"safety\", \"buying price\", \"maintenance cost\", \"lug boot\" and then \"number of doors\"**"
   ]
  },
  {
   "cell_type": "markdown",
   "metadata": {
    "id": "UZVa56jMSAu7"
   },
   "source": [
    "**Initializing Univariate Data Analysis**"
   ]
  },
  {
   "cell_type": "markdown",
   "metadata": {},
   "source": [
    "**Plotting the data distribution in feature \"Buying Price\"**"
   ]
  },
  {
   "cell_type": "code",
   "execution_count": 20,
   "metadata": {
    "colab": {
     "base_uri": "https://localhost:8080/",
     "height": 492
    },
    "id": "TPvvbbFMSJwC",
    "outputId": "4f87c665-734b-4e0c-c23d-bb5894403e43"
   },
   "outputs": [
    {
     "data": {
      "text/plain": [
       "<Axes: xlabel='Buying Prices', ylabel=' Count'>"
      ]
     },
     "execution_count": 20,
     "metadata": {},
     "output_type": "execute_result"
    },
    {
     "data": {
      "image/png": "[encoded data removed]",
      "text/plain": [
       "<Figure size 640x480 with 1 Axes>"
      ]
     },
     "metadata": {},
     "output_type": "display_data"
    }
   ],
   "source": [
    "colors = ['pink', 'green', 'blue', 'red']\n",
    "df['buying price'].value_counts().sort_values(ascending=True).plot(kind='bar',\n",
    "                                                                   color = colors,\n",
    "                                                                   xlabel = 'Buying Prices',\n",
    "                                                                   ylabel = ' Count')"
   ]
  },
  {
   "cell_type": "markdown",
   "metadata": {
    "id": "Wdj6GyOQTVH9"
   },
   "source": [
    "**Same number of samples were found for all the four types of buying prices, \"high\", \"low\", \"medium\" and \"very high\"**"
   ]
  },
  {
   "cell_type": "markdown",
   "metadata": {},
   "source": [
    "**Plotting the data distribution in feature \"Maintenance Cost\"**"
   ]
  },
  {
   "cell_type": "code",
   "execution_count": 21,
   "metadata": {
    "colab": {
     "base_uri": "https://localhost:8080/",
     "height": 492
    },
    "id": "trMsl-WkTny8",
    "outputId": "4d1ba4fb-3be9-48ce-d407-59c1cac23085"
   },
   "outputs": [
    {
     "data": {
      "text/plain": [
       "<Axes: xlabel='Maintenance Costs', ylabel=' Count'>"
      ]
     },
     "execution_count": 21,
     "metadata": {},
     "output_type": "execute_result"
    },
    {
     "data": {
      "image/png": "[encoded data removed]",
      "text/plain": [
       "<Figure size 640x480 with 1 Axes>"
      ]
     },
     "metadata": {},
     "output_type": "display_data"
    }
   ],
   "source": [
    "colors = ['pink', 'green', 'blue', 'red']\n",
    "df['maintenance cost'].value_counts().sort_values(ascending=True).plot(kind='bar',\n",
    "                                                                       color = colors,\n",
    "                                                                       xlabel = 'Maintenance Costs',\n",
    "                                                                       ylabel = ' Count')"
   ]
  },
  {
   "cell_type": "markdown",
   "metadata": {
    "id": "DIRHoP7tT0Ys"
   },
   "source": [
    "**Same number of samples were found for all the four types of maintenance costs, \"high\", \"low\", \"medium\" and \"very high\"**"
   ]
  },
  {
   "cell_type": "markdown",
   "metadata": {},
   "source": [
    "**Plotting the data distribution in feature \"Number Of Doors\"**"
   ]
  },
  {
   "cell_type": "code",
   "execution_count": 22,
   "metadata": {
    "colab": {
     "base_uri": "https://localhost:8080/",
     "height": 538
    },
    "id": "bvKu7pcWV8YP",
    "outputId": "0815e3a2-ae99-4f6d-c071-64eab312e7c7"
   },
   "outputs": [
    {
     "data": {
      "text/plain": [
       "<Axes: xlabel='Number Of Doors', ylabel=' Count'>"
      ]
     },
     "execution_count": 22,
     "metadata": {},
     "output_type": "execute_result"
    },
    {
     "data": {
      "image/png": "[encoded data removed]",
      "text/plain": [
       "<Figure size 640x480 with 1 Axes>"
      ]
     },
     "metadata": {},
     "output_type": "display_data"
    }
   ],
   "source": [
    "colors = ['red', 'green', 'blue', 'orange']\n",
    "df['number of doors'].value_counts().sort_values(ascending=True).plot(kind='bar',\n",
    "                                                                      color = colors,\n",
    "                                                                      xlabel = 'Number Of Doors',\n",
    "                                                                      ylabel = ' Count')"
   ]
  },
  {
   "cell_type": "markdown",
   "metadata": {
    "id": "mSfjho3OWSXZ"
   },
   "source": [
    "**Same number of samples were found for all the four categories of \"number of doors\", \"two\", \"three\", \"four\" and \"five or more\"**"
   ]
  },
  {
   "cell_type": "markdown",
   "metadata": {},
   "source": [
    "**Plotting the data distribution in feature \"Number Of Persons\"**"
   ]
  },
  {
   "cell_type": "code",
   "execution_count": 23,
   "metadata": {
    "colab": {
     "base_uri": "https://localhost:8080/",
     "height": 492
    },
    "id": "WG1ftmaLWprr",
    "outputId": "a9f17410-be0a-49e9-9f49-b9a292d517a7"
   },
   "outputs": [
    {
     "data": {
      "text/plain": [
       "<Axes: xlabel='Numbe Of Persons', ylabel=' Count'>"
      ]
     },
     "execution_count": 23,
     "metadata": {},
     "output_type": "execute_result"
    },
    {
     "data": {
      "image/png": "[encoded data removed]",
      "text/plain": [
       "<Figure size 640x480 with 1 Axes>"
      ]
     },
     "metadata": {},
     "output_type": "display_data"
    }
   ],
   "source": [
    "colors = ['blue', 'green', 'yellow']\n",
    "df['number of persons'].value_counts().sort_values(ascending=True).plot(kind='bar',\n",
    "                                                                        color = colors,\n",
    "                                                                        xlabel = 'Numbe Of Persons',\n",
    "                                                                        ylabel = ' Count')"
   ]
  },
  {
   "cell_type": "markdown",
   "metadata": {
    "id": "DvhIk4VUXJnx"
   },
   "source": [
    "**Same number of samples were found for all the three categories of \"number of persons\", \"two\", \"four\", and \"more\"**"
   ]
  },
  {
   "cell_type": "markdown",
   "metadata": {},
   "source": [
    "**Plotting the data distribution in feature \"Lug Boot\"**"
   ]
  },
  {
   "cell_type": "code",
   "execution_count": 24,
   "metadata": {
    "colab": {
     "base_uri": "https://localhost:8080/",
     "height": 493
    },
    "id": "7IoAR0MKWkPn",
    "outputId": "75059508-a47a-44ec-bbfa-4101a61a508e"
   },
   "outputs": [
    {
     "data": {
      "text/plain": [
       "<Axes: xlabel='Lug Boot Sizes', ylabel=' Count'>"
      ]
     },
     "execution_count": 24,
     "metadata": {},
     "output_type": "execute_result"
    },
    {
     "data": {
      "image/png": "[encoded data removed]",
      "text/plain": [
       "<Figure size 640x480 with 1 Axes>"
      ]
     },
     "metadata": {},
     "output_type": "display_data"
    }
   ],
   "source": [
    "colors = ['yellow', 'green', 'blue']\n",
    "df['lug boot'].value_counts().sort_values(ascending=True).plot(kind='bar',\n",
    "                                                               color = colors,\n",
    "                                                               xlabel = 'Lug Boot Sizes',\n",
    "                                                               ylabel = ' Count')"
   ]
  },
  {
   "cell_type": "markdown",
   "metadata": {
    "id": "08vA_6kOXjc5"
   },
   "source": [
    "**Same number of samples were found for all the three categories of \"lug boots\", \"big\", \"medium\", and \"small\"**"
   ]
  },
  {
   "cell_type": "markdown",
   "metadata": {},
   "source": [
    "**Plotting the data distribution in feature \"Safety\"**"
   ]
  },
  {
   "cell_type": "code",
   "execution_count": 25,
   "metadata": {
    "colab": {
     "base_uri": "https://localhost:8080/",
     "height": 487
    },
    "id": "-izI_QnfXulp",
    "outputId": "b0b9c664-8a4d-44f1-d23d-2e22b1f6f7d8"
   },
   "outputs": [
    {
     "data": {
      "text/plain": [
       "<Axes: xlabel='Safety Levels', ylabel=' Count'>"
      ]
     },
     "execution_count": 25,
     "metadata": {},
     "output_type": "execute_result"
    },
    {
     "data": {
      "image/png": "[encoded data removed]",
      "text/plain": [
       "<Figure size 640x480 with 1 Axes>"
      ]
     },
     "metadata": {},
     "output_type": "display_data"
    }
   ],
   "source": [
    "colors = ['green', 'red', 'blue']\n",
    "df['safety'].value_counts().sort_values(ascending=True).plot(kind='bar',\n",
    "                                                             color = colors,\n",
    "                                                             xlabel = 'Safety Levels',\n",
    "                                                             ylabel = ' Count')"
   ]
  },
  {
   "cell_type": "markdown",
   "metadata": {
    "id": "4cTvC82-X_Xq"
   },
   "source": [
    "**Same number of samples were found for all the three categories of \"safeties\", \"high\", \"low\", and \"medium\"**"
   ]
  },
  {
   "cell_type": "markdown",
   "metadata": {
    "id": "30bq61u2YJMl"
   },
   "source": [
    "**After univariate analysis, it's evident that each category within every feature has an equal number of samples. This could be a result of intentional, careful data collection to ensure balance for analytical fairness. Alternatively, the equal distribution might be coincidental, though this seems unlikely in natural processes. Further investigation into the dataset's documentation is needed to understand the reasons behind this balance, influencing subsequent analyses and modeling decisions.**"
   ]
  },
  {
   "cell_type": "markdown",
   "metadata": {
    "id": "OV15rJQSw5Ts"
   },
   "source": [
    "**Initializing Bivariate Analysis**"
   ]
  },
  {
   "cell_type": "markdown",
   "metadata": {
    "id": "d-xx5oB_Qirs"
   },
   "source": [
    "**Converting the classes back to categorical values for data analysis and changing it to \"category\" datatype**"
   ]
  },
  {
   "cell_type": "code",
   "execution_count": 26,
   "metadata": {
    "id": "n0gqkeqLleJv"
   },
   "outputs": [],
   "source": [
    "df.replace ({\"class\": {0: 'unacc', 1: 'acc', 2 : 'good', 3: 'vgood'}}, inplace = True)\n",
    "df['class'] = df['class'].astype('category')"
   ]
  },
  {
   "cell_type": "markdown",
   "metadata": {
    "id": "_xAdTso_aFCy"
   },
   "source": [
    "**Performing statistical tests to find the relationship between dependent and independent features**"
   ]
  },
  {
   "cell_type": "code",
   "execution_count": 27,
   "metadata": {
    "colab": {
     "base_uri": "https://localhost:8080/"
    },
    "id": "kUZdVeAzi7yW",
    "outputId": "b37138a3-05fb-4b2e-8753-5e0a025ddafc"
   },
   "outputs": [
    {
     "name": "stdout",
     "output_type": "stream",
     "text": [
      "Significant relationship found between buying price and class.\n",
      "Significant relationship found between maintenance cost and class.\n",
      "No significant relationship found between number of doors and class.\n",
      "Significant relationship found between number of persons and class.\n",
      "Significant relationship found between lug boot and class.\n",
      "Significant relationship found between safety and class.\n"
     ]
    }
   ],
   "source": [
    "dependent_feature = 'class'\n",
    "\n",
    "categorical_columns = ['buying price', 'maintenance cost', 'number of doors',\n",
    "                       'number of persons', 'lug boot', 'safety']\n",
    "\n",
    "processed_pairs = set()\n",
    "\n",
    "cat_rel = []\n",
    "\n",
    "for cat_col in categorical_columns:\n",
    "    contingency_table = pd.crosstab(df[cat_col], df[dependent_feature])\n",
    "    try:\n",
    "        chi2_stat, p_value, dof, expected = chi2_contingency(contingency_table)\n",
    "        if p_value < 0.05:\n",
    "            cat_rel.append({\"independent_feature\": cat_col,\n",
    "                            \"dependent_feature\": dependent_feature, \"p\": p_value})\n",
    "            print(f\"Significant relationship found between {cat_col} and {dependent_feature}.\")\n",
    "        else:\n",
    "            print(f\"No significant relationship found between {cat_col} and {dependent_feature}.\")\n",
    "    except:\n",
    "        pass\n",
    "\n",
    "cat_rel_df = pd.DataFrame(cat_rel)"
   ]
  },
  {
   "cell_type": "markdown",
   "metadata": {
    "id": "kyvfcQuXnfaq"
   },
   "source": [
    "**Sorting the dataframe in ascending order**"
   ]
  },
  {
   "cell_type": "code",
   "execution_count": 28,
   "metadata": {
    "colab": {
     "base_uri": "https://localhost:8080/",
     "height": 206
    },
    "id": "7voV4o9UngI7",
    "outputId": "84b9222d-b6db-4afb-ab06-1afe55011ea2"
   },
   "outputs": [
    {
     "data": {
      "text/html": [
       "<div>\n",
       "<style scoped>\n",
       "    .dataframe tbody tr th:only-of-type {\n",
       "        vertical-align: middle;\n",
       "    }\n",
       "\n",
       "    .dataframe tbody tr th {\n",
       "        vertical-align: top;\n",
       "    }\n",
       "\n",
       "    .dataframe thead th {\n",
       "        text-align: right;\n",
       "    }\n",
       "</style>\n",
       "<table border=\"1\" class=\"dataframe\">\n",
       "  <thead>\n",
       "    <tr style=\"text-align: right;\">\n",
       "      <th></th>\n",
       "      <th>independent_feature</th>\n",
       "      <th>dependent_feature</th>\n",
       "      <th>p</th>\n",
       "    </tr>\n",
       "  </thead>\n",
       "  <tbody>\n",
       "    <tr>\n",
       "      <th>4</th>\n",
       "      <td>safety</td>\n",
       "      <td>class</td>\n",
       "      <td>2.389155e-100</td>\n",
       "    </tr>\n",
       "    <tr>\n",
       "      <th>2</th>\n",
       "      <td>number of persons</td>\n",
       "      <td>class</td>\n",
       "      <td>4.039968e-77</td>\n",
       "    </tr>\n",
       "    <tr>\n",
       "      <th>0</th>\n",
       "      <td>buying price</td>\n",
       "      <td>class</td>\n",
       "      <td>5.928063e-36</td>\n",
       "    </tr>\n",
       "    <tr>\n",
       "      <th>1</th>\n",
       "      <td>maintenance cost</td>\n",
       "      <td>class</td>\n",
       "      <td>2.547652e-26</td>\n",
       "    </tr>\n",
       "    <tr>\n",
       "      <th>3</th>\n",
       "      <td>lug boot</td>\n",
       "      <td>class</td>\n",
       "      <td>1.029440e-09</td>\n",
       "    </tr>\n",
       "  </tbody>\n",
       "</table>\n",
       "</div>"
      ],
      "text/plain": [
       "  independent_feature dependent_feature              p\n",
       "4              safety             class  2.389155e-100\n",
       "2   number of persons             class   4.039968e-77\n",
       "0        buying price             class   5.928063e-36\n",
       "1    maintenance cost             class   2.547652e-26\n",
       "3            lug boot             class   1.029440e-09"
      ]
     },
     "execution_count": 28,
     "metadata": {},
     "output_type": "execute_result"
    }
   ],
   "source": [
    "cat_rel_df.sort_values(by = 'p', ascending = True)"
   ]
  },
  {
   "cell_type": "markdown",
   "metadata": {
    "id": "NtLjhJszmr1A"
   },
   "source": [
    "**In this case, the lower the p-value, the stronger the relationship between the two variables. So, the strongest relationship with the output variable is found with \"safety\", followed by \"number of persons\", \"buying price\", \"maintenance cost\" and \"lug boot\".**"
   ]
  },
  {
   "cell_type": "markdown",
   "metadata": {},
   "source": [
    "**Feature importance scores given by the trained model**"
   ]
  },
  {
   "cell_type": "code",
   "execution_count": 29,
   "metadata": {
    "colab": {
     "base_uri": "https://localhost:8080/",
     "height": 237
    },
    "id": "jodPXlxDoNyA",
    "outputId": "d839dd1c-2158-40fa-912e-dc266d84997c"
   },
   "outputs": [
    {
     "data": {
      "text/html": [
       "<div>\n",
       "<style scoped>\n",
       "    .dataframe tbody tr th:only-of-type {\n",
       "        vertical-align: middle;\n",
       "    }\n",
       "\n",
       "    .dataframe tbody tr th {\n",
       "        vertical-align: top;\n",
       "    }\n",
       "\n",
       "    .dataframe thead th {\n",
       "        text-align: right;\n",
       "    }\n",
       "</style>\n",
       "<table border=\"1\" class=\"dataframe\">\n",
       "  <thead>\n",
       "    <tr style=\"text-align: right;\">\n",
       "      <th></th>\n",
       "      <th>Feature</th>\n",
       "      <th>Importance</th>\n",
       "    </tr>\n",
       "  </thead>\n",
       "  <tbody>\n",
       "    <tr>\n",
       "      <th>3</th>\n",
       "      <td>number of persons</td>\n",
       "      <td>38.301147</td>\n",
       "    </tr>\n",
       "    <tr>\n",
       "      <th>5</th>\n",
       "      <td>safety</td>\n",
       "      <td>23.498472</td>\n",
       "    </tr>\n",
       "    <tr>\n",
       "      <th>0</th>\n",
       "      <td>buying price</td>\n",
       "      <td>14.056401</td>\n",
       "    </tr>\n",
       "    <tr>\n",
       "      <th>1</th>\n",
       "      <td>maintenance cost</td>\n",
       "      <td>11.770155</td>\n",
       "    </tr>\n",
       "    <tr>\n",
       "      <th>4</th>\n",
       "      <td>lug boot</td>\n",
       "      <td>8.274761</td>\n",
       "    </tr>\n",
       "    <tr>\n",
       "      <th>2</th>\n",
       "      <td>number of doors</td>\n",
       "      <td>4.099063</td>\n",
       "    </tr>\n",
       "  </tbody>\n",
       "</table>\n",
       "</div>"
      ],
      "text/plain": [
       "             Feature  Importance\n",
       "3  number of persons   38.301147\n",
       "5             safety   23.498472\n",
       "0       buying price   14.056401\n",
       "1   maintenance cost   11.770155\n",
       "4           lug boot    8.274761\n",
       "2    number of doors    4.099063"
      ]
     },
     "execution_count": 29,
     "metadata": {},
     "output_type": "execute_result"
    }
   ],
   "source": [
    "importance_df_xgb"
   ]
  },
  {
   "cell_type": "markdown",
   "metadata": {
    "id": "v3VmKy3uocMq"
   },
   "source": [
    "**If we look at the feature importances given by xgboost, the results are not that different from what we just found after the chi square test of independence.**"
   ]
  },
  {
   "cell_type": "markdown",
   "metadata": {
    "id": "1oowIWrNluWq"
   },
   "source": [
    "**Strongest relationship with the target variable was found with the feature 'safety'. Starting data analysis with this feature**"
   ]
  },
  {
   "cell_type": "markdown",
   "metadata": {
    "id": "i-Y4t6UUUjAj"
   },
   "source": [
    "**Making a pivot table of the cars rated good and very good to draw conclusions about how they are related to the safety levels.**"
   ]
  },
  {
   "cell_type": "code",
   "execution_count": 30,
   "metadata": {
    "colab": {
     "base_uri": "https://localhost:8080/",
     "height": 175
    },
    "id": "p2zM7IskoqtV",
    "outputId": "8a5e7aa1-3569-4a64-eefc-8744038912be"
   },
   "outputs": [
    {
     "data": {
      "text/html": [
       "<div>\n",
       "<style scoped>\n",
       "    .dataframe tbody tr th:only-of-type {\n",
       "        vertical-align: middle;\n",
       "    }\n",
       "\n",
       "    .dataframe tbody tr th {\n",
       "        vertical-align: top;\n",
       "    }\n",
       "\n",
       "    .dataframe thead th {\n",
       "        text-align: right;\n",
       "    }\n",
       "</style>\n",
       "<table border=\"1\" class=\"dataframe\">\n",
       "  <thead>\n",
       "    <tr style=\"text-align: right;\">\n",
       "      <th>class</th>\n",
       "      <th>acc</th>\n",
       "      <th>good</th>\n",
       "      <th>unacc</th>\n",
       "      <th>vgood</th>\n",
       "    </tr>\n",
       "    <tr>\n",
       "      <th>safety</th>\n",
       "      <th></th>\n",
       "      <th></th>\n",
       "      <th></th>\n",
       "      <th></th>\n",
       "    </tr>\n",
       "  </thead>\n",
       "  <tbody>\n",
       "    <tr>\n",
       "      <th>high</th>\n",
       "      <td>204</td>\n",
       "      <td>30</td>\n",
       "      <td>277</td>\n",
       "      <td>65</td>\n",
       "    </tr>\n",
       "    <tr>\n",
       "      <th>low</th>\n",
       "      <td>0</td>\n",
       "      <td>0</td>\n",
       "      <td>576</td>\n",
       "      <td>0</td>\n",
       "    </tr>\n",
       "    <tr>\n",
       "      <th>med</th>\n",
       "      <td>180</td>\n",
       "      <td>39</td>\n",
       "      <td>357</td>\n",
       "      <td>0</td>\n",
       "    </tr>\n",
       "  </tbody>\n",
       "</table>\n",
       "</div>"
      ],
      "text/plain": [
       "class   acc  good  unacc  vgood\n",
       "safety                         \n",
       "high    204    30    277     65\n",
       "low       0     0    576      0\n",
       "med     180    39    357      0"
      ]
     },
     "execution_count": 30,
     "metadata": {},
     "output_type": "execute_result"
    }
   ],
   "source": [
    "pt_quality_with_safety = df.groupby (['safety', 'class'])['class'].count().unstack()\n",
    "pt_quality_with_safety.sort_values(by = 'vgood', ascending = False)"
   ]
  },
  {
   "cell_type": "markdown",
   "metadata": {},
   "source": [
    "**Expressing the results in percentages to make the interpretation of results easier**"
   ]
  },
  {
   "cell_type": "code",
   "execution_count": 31,
   "metadata": {
    "colab": {
     "base_uri": "https://localhost:8080/",
     "height": 175
    },
    "id": "ReVlk3oP_EdP",
    "outputId": "1d2e0469-d4b4-4676-d2f5-37fce29c3b3a"
   },
   "outputs": [
    {
     "data": {
      "text/html": [
       "<div>\n",
       "<style scoped>\n",
       "    .dataframe tbody tr th:only-of-type {\n",
       "        vertical-align: middle;\n",
       "    }\n",
       "\n",
       "    .dataframe tbody tr th {\n",
       "        vertical-align: top;\n",
       "    }\n",
       "\n",
       "    .dataframe thead th {\n",
       "        text-align: right;\n",
       "    }\n",
       "</style>\n",
       "<table border=\"1\" class=\"dataframe\">\n",
       "  <thead>\n",
       "    <tr style=\"text-align: right;\">\n",
       "      <th>class</th>\n",
       "      <th>acc</th>\n",
       "      <th>good</th>\n",
       "      <th>unacc</th>\n",
       "      <th>vgood</th>\n",
       "      <th>Percentage Of Cars Rated Very Good</th>\n",
       "      <th>Percentage Of Cars Rated Good</th>\n",
       "    </tr>\n",
       "    <tr>\n",
       "      <th>safety</th>\n",
       "      <th></th>\n",
       "      <th></th>\n",
       "      <th></th>\n",
       "      <th></th>\n",
       "      <th></th>\n",
       "      <th></th>\n",
       "    </tr>\n",
       "  </thead>\n",
       "  <tbody>\n",
       "    <tr>\n",
       "      <th>high</th>\n",
       "      <td>204</td>\n",
       "      <td>30</td>\n",
       "      <td>277</td>\n",
       "      <td>65</td>\n",
       "      <td>100.0</td>\n",
       "      <td>43.0</td>\n",
       "    </tr>\n",
       "    <tr>\n",
       "      <th>low</th>\n",
       "      <td>0</td>\n",
       "      <td>0</td>\n",
       "      <td>576</td>\n",
       "      <td>0</td>\n",
       "      <td>0.0</td>\n",
       "      <td>0.0</td>\n",
       "    </tr>\n",
       "    <tr>\n",
       "      <th>med</th>\n",
       "      <td>180</td>\n",
       "      <td>39</td>\n",
       "      <td>357</td>\n",
       "      <td>0</td>\n",
       "      <td>0.0</td>\n",
       "      <td>57.0</td>\n",
       "    </tr>\n",
       "  </tbody>\n",
       "</table>\n",
       "</div>"
      ],
      "text/plain": [
       "class   acc  good  unacc  vgood  Percentage Of Cars Rated Very Good  \\\n",
       "safety                                                                \n",
       "high    204    30    277     65                               100.0   \n",
       "low       0     0    576      0                                 0.0   \n",
       "med     180    39    357      0                                 0.0   \n",
       "\n",
       "class   Percentage Of Cars Rated Good  \n",
       "safety                                 \n",
       "high                             43.0  \n",
       "low                               0.0  \n",
       "med                              57.0  "
      ]
     },
     "execution_count": 31,
     "metadata": {},
     "output_type": "execute_result"
    }
   ],
   "source": [
    "pt_quality_with_safety['Percentage Of Cars Rated Very Good'] = ((pt_quality_with_safety['vgood']\n",
    "                                                                 /pt_quality_with_safety['vgood']\n",
    "                                                                 .sum())*100).round(0)\n",
    "\n",
    "pt_quality_with_safety['Percentage Of Cars Rated Good'] = ((pt_quality_with_safety['good']\n",
    "                                                            /pt_quality_with_safety['good']\n",
    "                                                            .sum())*100).round(0)\n",
    "\n",
    "pt_quality_with_safety.sort_values(by = 'Percentage Of Cars Rated Very Good', ascending = False)"
   ]
  },
  {
   "cell_type": "markdown",
   "metadata": {},
   "source": [
    "**Plotting safety levels with the percentage of cars rated very good**"
   ]
  },
  {
   "cell_type": "code",
   "execution_count": 32,
   "metadata": {
    "colab": {
     "base_uri": "https://localhost:8080/",
     "height": 484
    },
    "id": "Glm-OZ8iaG0P",
    "outputId": "92754881-197b-408d-8977-f80603c89240"
   },
   "outputs": [
    {
     "data": {
      "text/plain": [
       "<Axes: xlabel='Safety Levels', ylabel='Percentage Of Cars Rated Very Good'>"
      ]
     },
     "execution_count": 32,
     "metadata": {},
     "output_type": "execute_result"
    },
    {
     "data": {
      "image/png": "[encoded data removed]",
      "text/plain": [
       "<Figure size 640x480 with 1 Axes>"
      ]
     },
     "metadata": {},
     "output_type": "display_data"
    }
   ],
   "source": [
    "pt_quality_with_safety['Percentage Of Cars Rated Very Good'].replace(0, float('nan')).sort_values(ascending=False).dropna().plot(kind='bar', xlabel='Safety Levels', ylabel='Percentage Of Cars Rated Very Good', color='green')"
   ]
  },
  {
   "cell_type": "markdown",
   "metadata": {},
   "source": [
    "**Plotting safety levels with the percentage of cars rated good**"
   ]
  },
  {
   "cell_type": "code",
   "execution_count": 33,
   "metadata": {
    "colab": {
     "base_uri": "https://localhost:8080/",
     "height": 484
    },
    "id": "-l5XkXCqr8TP",
    "outputId": "fb18c383-8a74-4920-8766-5a584b38d6c8"
   },
   "outputs": [
    {
     "data": {
      "text/plain": [
       "<Axes: xlabel='Safety Levels', ylabel='Percentage Of Cars Rated Good'>"
      ]
     },
     "execution_count": 33,
     "metadata": {},
     "output_type": "execute_result"
    },
    {
     "data": {
      "image/png": "[encoded data removed]",
      "text/plain": [
       "<Figure size 640x480 with 1 Axes>"
      ]
     },
     "metadata": {},
     "output_type": "display_data"
    }
   ],
   "source": [
    "pt_quality_with_safety['Percentage Of Cars Rated Good'].replace(0, float('nan')).sort_values(ascending=False).dropna().plot(kind='bar', xlabel='Safety Levels', ylabel='Percentage Of Cars Rated Good', color='green')"
   ]
  },
  {
   "cell_type": "markdown",
   "metadata": {
    "id": "383DJT-e4NeG"
   },
   "source": [
    "**The above bar plots show that the higher the cars in safety, the better its quality. 100% of all the cars rated very good have a high safety whereas 57% of all the cars rated good have medium safety and 43% had high safety. Recommendations: Try making cars with higher safety levels to achieve a higer rating**"
   ]
  },
  {
   "cell_type": "markdown",
   "metadata": {
    "id": "Hf7sg1OM1fXY"
   },
   "source": [
    "**Sensitivity Analysis**"
   ]
  },
  {
   "cell_type": "markdown",
   "metadata": {},
   "source": [
    "**Making necessary preparations for running sensitivity analysis**"
   ]
  },
  {
   "cell_type": "code",
   "execution_count": 34,
   "metadata": {
    "id": "1AmhdPmxnrkj"
   },
   "outputs": [],
   "source": [
    "df_for_sa = pd.concat([x, y], axis =1)\n",
    "\n",
    "x_for_sa = df_for_sa.drop ('class', axis =1)\n",
    "y_for_sa = df_for_sa['class']\n",
    "\n",
    "x_train_for_sa, x_test_for_sa, y_train_for_sa, y_test_for_sa = train_test_split (x_for_sa, y_for_sa,\n",
    "                                  test_size = 0.2, random_state = 2, stratify = y_for_sa)"
   ]
  },
  {
   "cell_type": "markdown",
   "metadata": {},
   "source": [
    "**Running sensitivity analysis**"
   ]
  },
  {
   "cell_type": "code",
   "execution_count": 35,
   "metadata": {
    "colab": {
     "base_uri": "https://localhost:8080/"
    },
    "id": "Bf4nqRTkEK1e",
    "outputId": "38cf91c6-53b8-4990-99ef-c1795c3d1d24"
   },
   "outputs": [
    {
     "name": "stdout",
     "output_type": "stream",
     "text": [
      "Scenario: With 0% Changes In More Than Low Safety Level To High Safety Level\n",
      "F1 Score:\n",
      "0.942098076470022\n",
      "Classification Report:\n",
      "              precision    recall  f1-score   support\n",
      "\n",
      "           0       1.00      0.98      0.99       242\n",
      "           1       0.90      0.83      0.86        77\n",
      "           2       0.44      0.79      0.56        14\n",
      "           3       0.92      0.92      0.92        13\n",
      "\n",
      "    accuracy                           0.94       346\n",
      "   macro avg       0.82      0.88      0.84       346\n",
      "weighted avg       0.95      0.94      0.94       346\n",
      "\n",
      "==================================================\n",
      "Scenario: With 25% Changes In More Than Low Safety Level To High Safety Level\n",
      "F1 Score:\n",
      "0.8406941280431945\n",
      "Classification Report:\n",
      "              precision    recall  f1-score   support\n",
      "\n",
      "           0       1.00      0.82      0.90       242\n",
      "           1       0.65      0.83      0.73        77\n",
      "           2       0.34      0.79      0.48        14\n",
      "           3       0.67      0.92      0.77        13\n",
      "\n",
      "    accuracy                           0.82       346\n",
      "   macro avg       0.67      0.84      0.72       346\n",
      "weighted avg       0.88      0.82      0.84       346\n",
      "\n",
      "==================================================\n",
      "Scenario: With 50% Changes In More Than Low Safety Level To High Safety Level\n",
      "F1 Score:\n",
      "0.8189142314366569\n",
      "Classification Report:\n",
      "              precision    recall  f1-score   support\n",
      "\n",
      "           0       1.00      0.79      0.88       242\n",
      "           1       0.62      0.83      0.71        77\n",
      "           2       0.35      0.79      0.49        14\n",
      "           3       0.57      0.92      0.71        13\n",
      "\n",
      "    accuracy                           0.80       346\n",
      "   macro avg       0.64      0.83      0.70       346\n",
      "weighted avg       0.87      0.80      0.82       346\n",
      "\n",
      "==================================================\n",
      "Scenario: With 75% Changes In More Than Low Safety Level To High Safety Level\n",
      "F1 Score:\n",
      "0.7956958390583584\n",
      "Classification Report:\n",
      "              precision    recall  f1-score   support\n",
      "\n",
      "           0       1.00      0.75      0.86       242\n",
      "           1       0.59      0.83      0.69        77\n",
      "           2       0.33      0.79      0.47        14\n",
      "           3       0.52      0.92      0.67        13\n",
      "\n",
      "    accuracy                           0.77       346\n",
      "   macro avg       0.61      0.82      0.67       346\n",
      "weighted avg       0.86      0.77      0.80       346\n",
      "\n",
      "==================================================\n",
      "Scenario: With 100% Changes In More Than Low Safety Level To High Safety Level\n",
      "F1 Score:\n",
      "0.7880889912596816\n",
      "Classification Report:\n",
      "              precision    recall  f1-score   support\n",
      "\n",
      "           0       1.00      0.74      0.85       242\n",
      "           1       0.58      0.83      0.68        77\n",
      "           2       0.32      0.79      0.46        14\n",
      "           3       0.50      0.92      0.65        13\n",
      "\n",
      "    accuracy                           0.77       346\n",
      "   macro avg       0.60      0.82      0.66       346\n",
      "weighted avg       0.86      0.77      0.79       346\n",
      "\n",
      "==================================================\n"
     ]
    }
   ],
   "source": [
    "xgb1 = XGBClassifier(objective='multi:softmax', num_class=4, eval_metric='mlogloss',\n",
    "                     enable_categorical=True, tree_method=\"hist\", n_estimators=10)\n",
    "\n",
    "xgb1.fit(x_train_for_sa, y_train_for_sa, verbose=True)\n",
    "\n",
    "scenarios = [0, 25, 50, 75, 100]\n",
    "\n",
    "for scenario in scenarios:\n",
    "    modified_x_test_for_sa = x_test_for_sa.copy()\n",
    "    num = int(len(modified_x_test_for_sa) * (scenario / 100))\n",
    "\n",
    "    indices_to_change = np.random.choice(\n",
    "        modified_x_test_for_sa.index[modified_x_test_for_sa['safety'] == 'low'],\n",
    "        num,\n",
    "        replace=True)\n",
    "\n",
    "    modified_x_test_for_sa.loc[indices_to_change, 'safety'] = 'high'\n",
    "\n",
    "    y_pred_test_for_sa = xgb1.predict(modified_x_test_for_sa)\n",
    "\n",
    "    f1 = f1_score(y_test_for_sa, y_pred_test_for_sa, average = 'weighted')\n",
    "    report = classification_report(y_test_for_sa, y_pred_test_for_sa)\n",
    "\n",
    "    print(f\"Scenario: With {scenario}% Changes In More Than Low Safety Level To High Safety Level\")\n",
    "    print (\"F1 Score:\")\n",
    "    print (f1)\n",
    "    print(\"Classification Report:\")\n",
    "    print(report)\n",
    "    print(\"=\" * 50)"
   ]
  },
  {
   "cell_type": "markdown",
   "metadata": {
    "id": "rvx06IKM3hSV"
   },
   "source": [
    "**The results of sensitivity analysis show a considerable change when the safety levels are altered. This supports the observation made above that the higher the safety level of the car, the higher it is rated**"
   ]
  },
  {
   "cell_type": "markdown",
   "metadata": {
    "id": "EkJAEizh5H2-"
   },
   "source": [
    "**After safety, strongest relationship with the target variable was found with the feature 'number of persons'.**"
   ]
  },
  {
   "cell_type": "markdown",
   "metadata": {},
   "source": [
    "**Making a pivot table of the cars rated good and very good to draw conclusions about how they are related to the number of persons they can accommodate**"
   ]
  },
  {
   "cell_type": "code",
   "execution_count": 36,
   "metadata": {
    "colab": {
     "base_uri": "https://localhost:8080/",
     "height": 175
    },
    "id": "1rySvB4HtgsD",
    "outputId": "ce881531-d8f2-42da-85a9-e363a9b83869"
   },
   "outputs": [
    {
     "data": {
      "text/html": [
       "<div>\n",
       "<style scoped>\n",
       "    .dataframe tbody tr th:only-of-type {\n",
       "        vertical-align: middle;\n",
       "    }\n",
       "\n",
       "    .dataframe tbody tr th {\n",
       "        vertical-align: top;\n",
       "    }\n",
       "\n",
       "    .dataframe thead th {\n",
       "        text-align: right;\n",
       "    }\n",
       "</style>\n",
       "<table border=\"1\" class=\"dataframe\">\n",
       "  <thead>\n",
       "    <tr style=\"text-align: right;\">\n",
       "      <th>class</th>\n",
       "      <th>acc</th>\n",
       "      <th>good</th>\n",
       "      <th>unacc</th>\n",
       "      <th>vgood</th>\n",
       "    </tr>\n",
       "    <tr>\n",
       "      <th>number of persons</th>\n",
       "      <th></th>\n",
       "      <th></th>\n",
       "      <th></th>\n",
       "      <th></th>\n",
       "    </tr>\n",
       "  </thead>\n",
       "  <tbody>\n",
       "    <tr>\n",
       "      <th>more</th>\n",
       "      <td>186</td>\n",
       "      <td>33</td>\n",
       "      <td>322</td>\n",
       "      <td>35</td>\n",
       "    </tr>\n",
       "    <tr>\n",
       "      <th>four</th>\n",
       "      <td>198</td>\n",
       "      <td>36</td>\n",
       "      <td>312</td>\n",
       "      <td>30</td>\n",
       "    </tr>\n",
       "    <tr>\n",
       "      <th>two</th>\n",
       "      <td>0</td>\n",
       "      <td>0</td>\n",
       "      <td>576</td>\n",
       "      <td>0</td>\n",
       "    </tr>\n",
       "  </tbody>\n",
       "</table>\n",
       "</div>"
      ],
      "text/plain": [
       "class              acc  good  unacc  vgood\n",
       "number of persons                         \n",
       "more               186    33    322     35\n",
       "four               198    36    312     30\n",
       "two                  0     0    576      0"
      ]
     },
     "execution_count": 36,
     "metadata": {},
     "output_type": "execute_result"
    }
   ],
   "source": [
    "pt_quality_with_persons = df.groupby (['number of persons', 'class'])['class'].count().unstack()\n",
    "pt_quality_with_persons.sort_values(by = 'vgood', ascending = False)"
   ]
  },
  {
   "cell_type": "markdown",
   "metadata": {},
   "source": [
    "**Expressing the results in percentages to make the interpretation of results easier**"
   ]
  },
  {
   "cell_type": "code",
   "execution_count": 37,
   "metadata": {
    "colab": {
     "base_uri": "https://localhost:8080/",
     "height": 175
    },
    "id": "Yq3H8-3MLCns",
    "outputId": "fe74af48-4a5b-423e-cb52-ba26be79c223"
   },
   "outputs": [
    {
     "data": {
      "text/html": [
       "<div>\n",
       "<style scoped>\n",
       "    .dataframe tbody tr th:only-of-type {\n",
       "        vertical-align: middle;\n",
       "    }\n",
       "\n",
       "    .dataframe tbody tr th {\n",
       "        vertical-align: top;\n",
       "    }\n",
       "\n",
       "    .dataframe thead th {\n",
       "        text-align: right;\n",
       "    }\n",
       "</style>\n",
       "<table border=\"1\" class=\"dataframe\">\n",
       "  <thead>\n",
       "    <tr style=\"text-align: right;\">\n",
       "      <th>class</th>\n",
       "      <th>acc</th>\n",
       "      <th>good</th>\n",
       "      <th>unacc</th>\n",
       "      <th>vgood</th>\n",
       "      <th>Percentage Of Cars Rated Very Good</th>\n",
       "      <th>Percentage Of Cars Rated Good</th>\n",
       "    </tr>\n",
       "    <tr>\n",
       "      <th>number of persons</th>\n",
       "      <th></th>\n",
       "      <th></th>\n",
       "      <th></th>\n",
       "      <th></th>\n",
       "      <th></th>\n",
       "      <th></th>\n",
       "    </tr>\n",
       "  </thead>\n",
       "  <tbody>\n",
       "    <tr>\n",
       "      <th>more</th>\n",
       "      <td>186</td>\n",
       "      <td>33</td>\n",
       "      <td>322</td>\n",
       "      <td>35</td>\n",
       "      <td>54.0</td>\n",
       "      <td>48.0</td>\n",
       "    </tr>\n",
       "    <tr>\n",
       "      <th>four</th>\n",
       "      <td>198</td>\n",
       "      <td>36</td>\n",
       "      <td>312</td>\n",
       "      <td>30</td>\n",
       "      <td>46.0</td>\n",
       "      <td>52.0</td>\n",
       "    </tr>\n",
       "    <tr>\n",
       "      <th>two</th>\n",
       "      <td>0</td>\n",
       "      <td>0</td>\n",
       "      <td>576</td>\n",
       "      <td>0</td>\n",
       "      <td>0.0</td>\n",
       "      <td>0.0</td>\n",
       "    </tr>\n",
       "  </tbody>\n",
       "</table>\n",
       "</div>"
      ],
      "text/plain": [
       "class              acc  good  unacc  vgood  \\\n",
       "number of persons                            \n",
       "more               186    33    322     35   \n",
       "four               198    36    312     30   \n",
       "two                  0     0    576      0   \n",
       "\n",
       "class              Percentage Of Cars Rated Very Good  \\\n",
       "number of persons                                       \n",
       "more                                             54.0   \n",
       "four                                             46.0   \n",
       "two                                               0.0   \n",
       "\n",
       "class              Percentage Of Cars Rated Good  \n",
       "number of persons                                 \n",
       "more                                        48.0  \n",
       "four                                        52.0  \n",
       "two                                          0.0  "
      ]
     },
     "execution_count": 37,
     "metadata": {},
     "output_type": "execute_result"
    }
   ],
   "source": [
    "pt_quality_with_persons['Percentage Of Cars Rated Very Good'] = ((pt_quality_with_persons['vgood']/pt_quality_with_persons['vgood'].sum())*100).round(0)\n",
    "\n",
    "pt_quality_with_persons['Percentage Of Cars Rated Good'] = ((pt_quality_with_persons['good']/pt_quality_with_persons['good'].sum())*100).round(0)\n",
    "\n",
    "pt_quality_with_persons.sort_values(by = 'Percentage Of Cars Rated Very Good', ascending = False)"
   ]
  },
  {
   "cell_type": "markdown",
   "metadata": {},
   "source": [
    "**Plotting number of persons a car can accommodate with the percentage of cars rated very good**"
   ]
  },
  {
   "cell_type": "code",
   "execution_count": 38,
   "metadata": {
    "colab": {
     "base_uri": "https://localhost:8080/",
     "height": 489
    },
    "id": "vvWTp3Sl5hkx",
    "outputId": "f4e05160-4bf4-43f6-fbf8-0f64e39a724d"
   },
   "outputs": [
    {
     "data": {
      "text/plain": [
       "<Axes: xlabel='Number Of Persons', ylabel='Percentage Of Cars Rated Very Good'>"
      ]
     },
     "execution_count": 38,
     "metadata": {},
     "output_type": "execute_result"
    },
    {
     "data": {
      "image/png": "[encoded data removed]",
      "text/plain": [
       "<Figure size 640x480 with 1 Axes>"
      ]
     },
     "metadata": {},
     "output_type": "display_data"
    }
   ],
   "source": [
    "pt_quality_with_persons['Percentage Of Cars Rated Very Good'].replace(0, float('nan')).sort_values(ascending=False).dropna().plot(kind='bar', xlabel='Number Of Persons', ylabel='Percentage Of Cars Rated Very Good', color='green')"
   ]
  },
  {
   "cell_type": "markdown",
   "metadata": {},
   "source": [
    "**Plotting number of persons a car can accommodate with the percentage of cars rated good**"
   ]
  },
  {
   "cell_type": "code",
   "execution_count": 39,
   "metadata": {
    "colab": {
     "base_uri": "https://localhost:8080/",
     "height": 489
    },
    "id": "3ZWNQCQ25q9Y",
    "outputId": "49e9c1b0-9d30-4940-a6c7-19dd5c66a140"
   },
   "outputs": [
    {
     "data": {
      "text/plain": [
       "<Axes: xlabel='Number Of Persons', ylabel='Percentage Of Cars Rated Good'>"
      ]
     },
     "execution_count": 39,
     "metadata": {},
     "output_type": "execute_result"
    },
    {
     "data": {
      "image/png": "[encoded data removed]",
      "text/plain": [
       "<Figure size 640x480 with 1 Axes>"
      ]
     },
     "metadata": {},
     "output_type": "display_data"
    }
   ],
   "source": [
    "pt_quality_with_persons['Percentage Of Cars Rated Good'].replace(0, float('nan')).sort_values(ascending=False).dropna().plot(kind='bar', xlabel='Number Of Persons', ylabel='Percentage Of Cars Rated Good', color='green')"
   ]
  },
  {
   "cell_type": "markdown",
   "metadata": {
    "id": "nL7P_1SG6KTp"
   },
   "source": [
    "**The above bar plots show that the higher the number of people a car can accomodate the higher it is rated. 54% of all the cars rated very good can accomodate more than 4 persons and 46% can accomodate 4 persons whereas 52% of all the cars rated good can accomodate 4 persons and 48% can accomodate more than 4 persons. Recommendations: Try making cars that can accomodate 4 or more than 4 persons to achieve a higer rating.**"
   ]
  },
  {
   "cell_type": "markdown",
   "metadata": {
    "id": "TL2W12mM6XF3"
   },
   "source": [
    "**Running sensitivity analysis**"
   ]
  },
  {
   "cell_type": "code",
   "execution_count": 40,
   "metadata": {
    "colab": {
     "base_uri": "https://localhost:8080/"
    },
    "id": "DsAAkSLVxGcR",
    "outputId": "0b4ddb0e-1037-4fff-ede2-3bef4d2b87d4"
   },
   "outputs": [
    {
     "name": "stdout",
     "output_type": "stream",
     "text": [
      "Scenario: With 0% Changes In Number Of Persons From Two To More\n",
      "F1 Score:\n",
      "0.942098076470022\n",
      "Classification Report:\n",
      "              precision    recall  f1-score   support\n",
      "\n",
      "           0       1.00      0.98      0.99       242\n",
      "           1       0.90      0.83      0.86        77\n",
      "           2       0.44      0.79      0.56        14\n",
      "           3       0.92      0.92      0.92        13\n",
      "\n",
      "    accuracy                           0.94       346\n",
      "   macro avg       0.82      0.88      0.84       346\n",
      "weighted avg       0.95      0.94      0.94       346\n",
      "\n",
      "==================================================\n",
      "Scenario: With 25% Changes In Number Of Persons From Two To More\n",
      "F1 Score:\n",
      "0.884109820821483\n",
      "Classification Report:\n",
      "              precision    recall  f1-score   support\n",
      "\n",
      "           0       1.00      0.89      0.94       242\n",
      "           1       0.74      0.83      0.79        77\n",
      "           2       0.39      0.79      0.52        14\n",
      "           3       0.71      0.92      0.80        13\n",
      "\n",
      "    accuracy                           0.87       346\n",
      "   macro avg       0.71      0.86      0.76       346\n",
      "weighted avg       0.91      0.87      0.88       346\n",
      "\n",
      "==================================================\n",
      "Scenario: With 50% Changes In Number Of Persons From Two To More\n",
      "F1 Score:\n",
      "0.8366472188501217\n",
      "Classification Report:\n",
      "              precision    recall  f1-score   support\n",
      "\n",
      "           0       1.00      0.81      0.89       242\n",
      "           1       0.67      0.83      0.74        77\n",
      "           2       0.32      0.79      0.46        14\n",
      "           3       0.57      0.92      0.71        13\n",
      "\n",
      "    accuracy                           0.82       346\n",
      "   macro avg       0.64      0.84      0.70       346\n",
      "weighted avg       0.88      0.82      0.84       346\n",
      "\n",
      "==================================================\n",
      "Scenario: With 75% Changes In Number Of Persons From Two To More\n",
      "F1 Score:\n",
      "0.8313868462774161\n",
      "Classification Report:\n",
      "              precision    recall  f1-score   support\n",
      "\n",
      "           0       1.00      0.80      0.89       242\n",
      "           1       0.67      0.83      0.74        77\n",
      "           2       0.32      0.79      0.46        14\n",
      "           3       0.55      0.92      0.69        13\n",
      "\n",
      "    accuracy                           0.81       346\n",
      "   macro avg       0.63      0.84      0.69       346\n",
      "weighted avg       0.88      0.81      0.83       346\n",
      "\n",
      "==================================================\n",
      "Scenario: With 100% Changes In Number Of Persons From Two To More\n",
      "F1 Score:\n",
      "0.8184788446714605\n",
      "Classification Report:\n",
      "              precision    recall  f1-score   support\n",
      "\n",
      "           0       1.00      0.78      0.88       242\n",
      "           1       0.65      0.83      0.73        77\n",
      "           2       0.31      0.79      0.45        14\n",
      "           3       0.52      0.92      0.67        13\n",
      "\n",
      "    accuracy                           0.80       346\n",
      "   macro avg       0.62      0.83      0.68       346\n",
      "weighted avg       0.88      0.80      0.82       346\n",
      "\n",
      "==================================================\n"
     ]
    }
   ],
   "source": [
    "xgb2 = XGBClassifier(objective='multi:softmax', num_class=4, eval_metric='mlogloss',\n",
    "                     enable_categorical=True, tree_method=\"hist\", n_estimators=10)\n",
    "\n",
    "xgb2.fit(x_train_for_sa, y_train_for_sa, verbose=True)\n",
    "\n",
    "scenarios = [0, 25, 50, 75, 100]\n",
    "\n",
    "for scenario in scenarios:\n",
    "    modified_x_test_for_sa = x_test_for_sa.copy()\n",
    "    num = int(len(modified_x_test_for_sa) * (scenario / 100))\n",
    "\n",
    "    indices_to_change = np.random.choice(\n",
    "        modified_x_test_for_sa.index[modified_x_test_for_sa['number of persons'] == 'two'],\n",
    "        num,\n",
    "        replace=True)\n",
    "\n",
    "    modified_x_test_for_sa.loc[indices_to_change, 'number of persons'] = 'more'\n",
    "\n",
    "    y_pred_test_for_sa = xgb2.predict(modified_x_test_for_sa)\n",
    "\n",
    "    f1 = f1_score(y_test_for_sa, y_pred_test_for_sa, average = 'weighted')\n",
    "    report = classification_report(y_test_for_sa, y_pred_test_for_sa)\n",
    "\n",
    "    print(f\"Scenario: With {scenario}% Changes In Number Of Persons From Two To More\")\n",
    "    print(\"F1 Score:\")\n",
    "    print(f1)\n",
    "    print(\"Classification Report:\")\n",
    "    print(report)\n",
    "    print(\"=\" * 50)"
   ]
  },
  {
   "cell_type": "markdown",
   "metadata": {
    "id": "ugYNC1Ls7pGe"
   },
   "source": [
    "**The results of sensitivity analysis show a considerable change when the number of persons are altered. This supports the observation made earlier that the cars that can accomodate more people are rated higher.**"
   ]
  },
  {
   "cell_type": "markdown",
   "metadata": {
    "id": "L2j74aam8Tnr"
   },
   "source": [
    "**The next feature that has the strongest relationship with the target variable is 'buying price'**"
   ]
  },
  {
   "cell_type": "markdown",
   "metadata": {},
   "source": [
    "**Making a pivot table of the cars rated good and very good to draw conclusions about how they are related to the buying price.**"
   ]
  },
  {
   "cell_type": "code",
   "execution_count": 41,
   "metadata": {
    "colab": {
     "base_uri": "https://localhost:8080/",
     "height": 206
    },
    "id": "P5ESYXt_yMOi",
    "outputId": "7598ccd1-16fc-4558-d414-e5f0d806e0f9"
   },
   "outputs": [
    {
     "data": {
      "text/html": [
       "<div>\n",
       "<style scoped>\n",
       "    .dataframe tbody tr th:only-of-type {\n",
       "        vertical-align: middle;\n",
       "    }\n",
       "\n",
       "    .dataframe tbody tr th {\n",
       "        vertical-align: top;\n",
       "    }\n",
       "\n",
       "    .dataframe thead th {\n",
       "        text-align: right;\n",
       "    }\n",
       "</style>\n",
       "<table border=\"1\" class=\"dataframe\">\n",
       "  <thead>\n",
       "    <tr style=\"text-align: right;\">\n",
       "      <th>class</th>\n",
       "      <th>acc</th>\n",
       "      <th>good</th>\n",
       "      <th>unacc</th>\n",
       "      <th>vgood</th>\n",
       "    </tr>\n",
       "    <tr>\n",
       "      <th>buying price</th>\n",
       "      <th></th>\n",
       "      <th></th>\n",
       "      <th></th>\n",
       "      <th></th>\n",
       "    </tr>\n",
       "  </thead>\n",
       "  <tbody>\n",
       "    <tr>\n",
       "      <th>low</th>\n",
       "      <td>89</td>\n",
       "      <td>46</td>\n",
       "      <td>258</td>\n",
       "      <td>39</td>\n",
       "    </tr>\n",
       "    <tr>\n",
       "      <th>med</th>\n",
       "      <td>115</td>\n",
       "      <td>23</td>\n",
       "      <td>268</td>\n",
       "      <td>26</td>\n",
       "    </tr>\n",
       "    <tr>\n",
       "      <th>high</th>\n",
       "      <td>108</td>\n",
       "      <td>0</td>\n",
       "      <td>324</td>\n",
       "      <td>0</td>\n",
       "    </tr>\n",
       "    <tr>\n",
       "      <th>vhigh</th>\n",
       "      <td>72</td>\n",
       "      <td>0</td>\n",
       "      <td>360</td>\n",
       "      <td>0</td>\n",
       "    </tr>\n",
       "  </tbody>\n",
       "</table>\n",
       "</div>"
      ],
      "text/plain": [
       "class         acc  good  unacc  vgood\n",
       "buying price                         \n",
       "low            89    46    258     39\n",
       "med           115    23    268     26\n",
       "high          108     0    324      0\n",
       "vhigh          72     0    360      0"
      ]
     },
     "execution_count": 41,
     "metadata": {},
     "output_type": "execute_result"
    }
   ],
   "source": [
    "pt_quality_with_buying_price = df.groupby (['buying price', 'class'])['class'].count().unstack()\n",
    "pt_quality_with_buying_price.sort_values(by = 'vgood', ascending = False)"
   ]
  },
  {
   "cell_type": "markdown",
   "metadata": {},
   "source": [
    "**Expressing the results in percentages to make the interpretation of results easier**"
   ]
  },
  {
   "cell_type": "code",
   "execution_count": 42,
   "metadata": {
    "colab": {
     "base_uri": "https://localhost:8080/",
     "height": 206
    },
    "id": "dr_2WAqAyYxB",
    "outputId": "07727023-5cbf-4c5b-c2ce-f0f0efe5ad87"
   },
   "outputs": [
    {
     "data": {
      "text/html": [
       "<div>\n",
       "<style scoped>\n",
       "    .dataframe tbody tr th:only-of-type {\n",
       "        vertical-align: middle;\n",
       "    }\n",
       "\n",
       "    .dataframe tbody tr th {\n",
       "        vertical-align: top;\n",
       "    }\n",
       "\n",
       "    .dataframe thead th {\n",
       "        text-align: right;\n",
       "    }\n",
       "</style>\n",
       "<table border=\"1\" class=\"dataframe\">\n",
       "  <thead>\n",
       "    <tr style=\"text-align: right;\">\n",
       "      <th>class</th>\n",
       "      <th>acc</th>\n",
       "      <th>good</th>\n",
       "      <th>unacc</th>\n",
       "      <th>vgood</th>\n",
       "      <th>Percentage Of Cars Rated Very Good</th>\n",
       "      <th>Percentage Of Cars Rated Good</th>\n",
       "    </tr>\n",
       "    <tr>\n",
       "      <th>buying price</th>\n",
       "      <th></th>\n",
       "      <th></th>\n",
       "      <th></th>\n",
       "      <th></th>\n",
       "      <th></th>\n",
       "      <th></th>\n",
       "    </tr>\n",
       "  </thead>\n",
       "  <tbody>\n",
       "    <tr>\n",
       "      <th>low</th>\n",
       "      <td>89</td>\n",
       "      <td>46</td>\n",
       "      <td>258</td>\n",
       "      <td>39</td>\n",
       "      <td>60.0</td>\n",
       "      <td>67.0</td>\n",
       "    </tr>\n",
       "    <tr>\n",
       "      <th>med</th>\n",
       "      <td>115</td>\n",
       "      <td>23</td>\n",
       "      <td>268</td>\n",
       "      <td>26</td>\n",
       "      <td>40.0</td>\n",
       "      <td>33.0</td>\n",
       "    </tr>\n",
       "    <tr>\n",
       "      <th>high</th>\n",
       "      <td>108</td>\n",
       "      <td>0</td>\n",
       "      <td>324</td>\n",
       "      <td>0</td>\n",
       "      <td>0.0</td>\n",
       "      <td>0.0</td>\n",
       "    </tr>\n",
       "    <tr>\n",
       "      <th>vhigh</th>\n",
       "      <td>72</td>\n",
       "      <td>0</td>\n",
       "      <td>360</td>\n",
       "      <td>0</td>\n",
       "      <td>0.0</td>\n",
       "      <td>0.0</td>\n",
       "    </tr>\n",
       "  </tbody>\n",
       "</table>\n",
       "</div>"
      ],
      "text/plain": [
       "class         acc  good  unacc  vgood  Percentage Of Cars Rated Very Good  \\\n",
       "buying price                                                                \n",
       "low            89    46    258     39                                60.0   \n",
       "med           115    23    268     26                                40.0   \n",
       "high          108     0    324      0                                 0.0   \n",
       "vhigh          72     0    360      0                                 0.0   \n",
       "\n",
       "class         Percentage Of Cars Rated Good  \n",
       "buying price                                 \n",
       "low                                    67.0  \n",
       "med                                    33.0  \n",
       "high                                    0.0  \n",
       "vhigh                                   0.0  "
      ]
     },
     "execution_count": 42,
     "metadata": {},
     "output_type": "execute_result"
    }
   ],
   "source": [
    "pt_quality_with_buying_price['Percentage Of Cars Rated Very Good'] = ((pt_quality_with_buying_price['vgood']/pt_quality_with_buying_price['vgood'].sum())*100).round(0)\n",
    "\n",
    "pt_quality_with_buying_price['Percentage Of Cars Rated Good'] = ((pt_quality_with_buying_price['good']/pt_quality_with_buying_price['good'].sum())*100).round(0)\n",
    "\n",
    "pt_quality_with_buying_price.sort_values(by = 'Percentage Of Cars Rated Very Good', ascending = False)"
   ]
  },
  {
   "cell_type": "markdown",
   "metadata": {},
   "source": [
    "**Plotting buying prices with the percentage of cars rated very good**"
   ]
  },
  {
   "cell_type": "code",
   "execution_count": 43,
   "metadata": {
    "colab": {
     "base_uri": "https://localhost:8080/",
     "height": 484
    },
    "id": "Tzh0BUIbyjCj",
    "outputId": "5ba8c2eb-b393-4d8d-8de5-314105d25167"
   },
   "outputs": [
    {
     "data": {
      "text/plain": [
       "<Axes: xlabel='Buying Prices', ylabel='Percentage Of Cars Rated Very Good'>"
      ]
     },
     "execution_count": 43,
     "metadata": {},
     "output_type": "execute_result"
    },
    {
     "data": {
      "image/png": "[encoded data removed]",
      "text/plain": [
       "<Figure size 640x480 with 1 Axes>"
      ]
     },
     "metadata": {},
     "output_type": "display_data"
    }
   ],
   "source": [
    "pt_quality_with_buying_price['Percentage Of Cars Rated Very Good'].replace(0, float('nan')).sort_values(ascending=False).dropna().plot(kind='bar', xlabel='Buying Prices', ylabel='Percentage Of Cars Rated Very Good', color='green')"
   ]
  },
  {
   "cell_type": "markdown",
   "metadata": {},
   "source": [
    "**Plotting buying prices with the percentage of cars rated good**"
   ]
  },
  {
   "cell_type": "code",
   "execution_count": 44,
   "metadata": {
    "colab": {
     "base_uri": "https://localhost:8080/",
     "height": 488
    },
    "id": "dQxESirM-49X",
    "outputId": "25273b58-e61b-486c-e2ba-7e32c931e2f1"
   },
   "outputs": [
    {
     "data": {
      "text/plain": [
       "<Axes: xlabel='Buying Prices', ylabel='Percentage Of Cars Rated Good'>"
      ]
     },
     "execution_count": 44,
     "metadata": {},
     "output_type": "execute_result"
    },
    {
     "data": {
      "image/png": "[encoded data removed]",
      "text/plain": [
       "<Figure size 640x480 with 1 Axes>"
      ]
     },
     "metadata": {},
     "output_type": "display_data"
    }
   ],
   "source": [
    "pt_quality_with_buying_price['Percentage Of Cars Rated Good'].replace(0, float('nan')).sort_values(ascending=False).dropna().plot(kind='bar', xlabel='Buying Prices', ylabel='Percentage Of Cars Rated Good', color='green')"
   ]
  },
  {
   "cell_type": "markdown",
   "metadata": {
    "id": "2teTuaqeAB8g"
   },
   "source": [
    "**The above bar plots show that the lower the buying price of a car, the higher it is rated. 60% of all the cars rated very good had a low buying price and 40% had a medium buying price whereas 67% of all the cars rated good had low buying price and 33% had a medium buying price. This is surprising since it is expected that the cars which have a higher price or buying price would be more durable and hence rated more. It is a moment of concern for the companies manufacturing expensive cars. Question: Are the expensive cars worth the price? It came to mind that maybe it is because the expensive cars are safe or they can accommodate less number of people and since these are the two features with the strongest relationship with target variable, that's why this is happening. Therefore, pivot tables were made to verify this but it was surprisingly found that the data distribution was quite normal and expensive cars had their equal share (in terms of safety and number of persons) in making their way to be rated higher but they failed to do so. Recommendations: Focus on making cars with less prices instead of expensive ones. These cars tend to be rated better than the ones that are bought at higher price.**"
   ]
  },
  {
   "cell_type": "markdown",
   "metadata": {},
   "source": [
    "**Running sensitivity analysis**"
   ]
  },
  {
   "cell_type": "code",
   "execution_count": 45,
   "metadata": {
    "colab": {
     "base_uri": "https://localhost:8080/"
    },
    "id": "mesBO4BT1QHa",
    "outputId": "9f5484f0-0150-4fd5-c5bc-1aeac5b6ef02"
   },
   "outputs": [
    {
     "name": "stdout",
     "output_type": "stream",
     "text": [
      "Scenario: With 0% Changes In Buying Price From Very High To Low\n",
      "F1 Score:\n",
      "0.942098076470022\n",
      "Classification Report:\n",
      "              precision    recall  f1-score   support\n",
      "\n",
      "           0       1.00      0.98      0.99       242\n",
      "           1       0.90      0.83      0.86        77\n",
      "           2       0.44      0.79      0.56        14\n",
      "           3       0.92      0.92      0.92        13\n",
      "\n",
      "    accuracy                           0.94       346\n",
      "   macro avg       0.82      0.88      0.84       346\n",
      "weighted avg       0.95      0.94      0.94       346\n",
      "\n",
      "==================================================\n",
      "Scenario: With 25% Changes In Buying Price From Very High To Low\n",
      "F1 Score:\n",
      "0.892561792182816\n",
      "Classification Report:\n",
      "              precision    recall  f1-score   support\n",
      "\n",
      "           0       1.00      0.93      0.97       242\n",
      "           1       0.76      0.73      0.74        77\n",
      "           2       0.35      0.79      0.49        14\n",
      "           3       0.80      0.92      0.86        13\n",
      "\n",
      "    accuracy                           0.88       346\n",
      "   macro avg       0.73      0.84      0.76       346\n",
      "weighted avg       0.91      0.88      0.89       346\n",
      "\n",
      "==================================================\n",
      "Scenario: With 50% Changes In Buying Price From Very High To Low\n",
      "F1 Score:\n",
      "0.8816900399488562\n",
      "Classification Report:\n",
      "              precision    recall  f1-score   support\n",
      "\n",
      "           0       1.00      0.93      0.96       242\n",
      "           1       0.74      0.69      0.71        77\n",
      "           2       0.34      0.79      0.48        14\n",
      "           3       0.71      0.92      0.80        13\n",
      "\n",
      "    accuracy                           0.87       346\n",
      "   macro avg       0.70      0.83      0.74       346\n",
      "weighted avg       0.90      0.87      0.88       346\n",
      "\n",
      "==================================================\n",
      "Scenario: With 75% Changes In Buying Price From Very High To Low\n",
      "F1 Score:\n",
      "0.8718910925137757\n",
      "Classification Report:\n",
      "              precision    recall  f1-score   support\n",
      "\n",
      "           0       1.00      0.91      0.95       242\n",
      "           1       0.71      0.69      0.70        77\n",
      "           2       0.33      0.79      0.47        14\n",
      "           3       0.71      0.92      0.80        13\n",
      "\n",
      "    accuracy                           0.86       346\n",
      "   macro avg       0.69      0.83      0.73       346\n",
      "weighted avg       0.90      0.86      0.87       346\n",
      "\n",
      "==================================================\n",
      "Scenario: With 100% Changes In Buying Price From Very High To Low\n",
      "F1 Score:\n",
      "0.8690016713888078\n",
      "Classification Report:\n",
      "              precision    recall  f1-score   support\n",
      "\n",
      "           0       1.00      0.91      0.95       242\n",
      "           1       0.70      0.68      0.69        77\n",
      "           2       0.33      0.79      0.47        14\n",
      "           3       0.67      0.92      0.77        13\n",
      "\n",
      "    accuracy                           0.86       346\n",
      "   macro avg       0.68      0.82      0.72       346\n",
      "weighted avg       0.89      0.86      0.87       346\n",
      "\n",
      "==================================================\n"
     ]
    }
   ],
   "source": [
    "xgb3 = XGBClassifier(objective='multi:softmax', num_class=4, eval_metric='mlogloss',\n",
    "                     enable_categorical=True, tree_method=\"hist\", n_estimators=10)\n",
    "\n",
    "xgb3.fit(x_train_for_sa, y_train_for_sa, verbose=True)\n",
    "\n",
    "scenarios = [0, 25, 50, 75, 100]\n",
    "\n",
    "for scenario in scenarios:\n",
    "    modified_x_test_for_sa = x_test_for_sa.copy()\n",
    "    num = int(len(modified_x_test_for_sa) * (scenario / 100))\n",
    "\n",
    "    indices_to_change = np.random.choice(\n",
    "        modified_x_test_for_sa.index[modified_x_test_for_sa['buying price'] == 'vhigh'],\n",
    "        num,\n",
    "        replace=True)\n",
    "\n",
    "    modified_x_test_for_sa.loc[indices_to_change, 'buying price'] = 'low'\n",
    "\n",
    "    y_pred_test_for_sa = xgb3.predict(modified_x_test_for_sa)\n",
    "\n",
    "    f1 = f1_score(y_test_for_sa, y_pred_test_for_sa, average = 'weighted')\n",
    "    report = classification_report(y_test_for_sa, y_pred_test_for_sa)\n",
    "\n",
    "    # Print results for the scenario\n",
    "    print(f\"Scenario: With {scenario}% Changes In Buying Price From Very High To Low\")\n",
    "    print(\"F1 Score:\")\n",
    "    print(f1)\n",
    "    print(\"Classification Report:\")\n",
    "    print(report)\n",
    "    print(\"=\" * 50)"
   ]
  },
  {
   "cell_type": "markdown",
   "metadata": {
    "id": "4wUvHMdVBQAB"
   },
   "source": [
    "**The results of sensitivity analysis show a considerable change when the buying price is altered. This supports the observation made earlier that the cars with a lower buying price are rated higher.**"
   ]
  },
  {
   "cell_type": "markdown",
   "metadata": {},
   "source": [
    "**The next feature that has the strongest relationship with the target variable is 'maintenance cost'**"
   ]
  },
  {
   "cell_type": "markdown",
   "metadata": {},
   "source": [
    "**Making a pivot table of the cars rated good and very good to draw conclusions about how they are related to the maintenance costs.**"
   ]
  },
  {
   "cell_type": "code",
   "execution_count": 46,
   "metadata": {
    "colab": {
     "base_uri": "https://localhost:8080/",
     "height": 206
    },
    "id": "4PGD0Q3k42pS",
    "outputId": "5bdfecf3-0ab3-4f8c-f7c5-973047192fbe"
   },
   "outputs": [
    {
     "data": {
      "text/html": [
       "<div>\n",
       "<style scoped>\n",
       "    .dataframe tbody tr th:only-of-type {\n",
       "        vertical-align: middle;\n",
       "    }\n",
       "\n",
       "    .dataframe tbody tr th {\n",
       "        vertical-align: top;\n",
       "    }\n",
       "\n",
       "    .dataframe thead th {\n",
       "        text-align: right;\n",
       "    }\n",
       "</style>\n",
       "<table border=\"1\" class=\"dataframe\">\n",
       "  <thead>\n",
       "    <tr style=\"text-align: right;\">\n",
       "      <th>class</th>\n",
       "      <th>acc</th>\n",
       "      <th>good</th>\n",
       "      <th>unacc</th>\n",
       "      <th>vgood</th>\n",
       "    </tr>\n",
       "    <tr>\n",
       "      <th>maintenance cost</th>\n",
       "      <th></th>\n",
       "      <th></th>\n",
       "      <th></th>\n",
       "      <th></th>\n",
       "    </tr>\n",
       "  </thead>\n",
       "  <tbody>\n",
       "    <tr>\n",
       "      <th>low</th>\n",
       "      <td>92</td>\n",
       "      <td>46</td>\n",
       "      <td>268</td>\n",
       "      <td>26</td>\n",
       "    </tr>\n",
       "    <tr>\n",
       "      <th>med</th>\n",
       "      <td>115</td>\n",
       "      <td>23</td>\n",
       "      <td>268</td>\n",
       "      <td>26</td>\n",
       "    </tr>\n",
       "    <tr>\n",
       "      <th>high</th>\n",
       "      <td>105</td>\n",
       "      <td>0</td>\n",
       "      <td>314</td>\n",
       "      <td>13</td>\n",
       "    </tr>\n",
       "    <tr>\n",
       "      <th>vhigh</th>\n",
       "      <td>72</td>\n",
       "      <td>0</td>\n",
       "      <td>360</td>\n",
       "      <td>0</td>\n",
       "    </tr>\n",
       "  </tbody>\n",
       "</table>\n",
       "</div>"
      ],
      "text/plain": [
       "class             acc  good  unacc  vgood\n",
       "maintenance cost                         \n",
       "low                92    46    268     26\n",
       "med               115    23    268     26\n",
       "high              105     0    314     13\n",
       "vhigh              72     0    360      0"
      ]
     },
     "execution_count": 46,
     "metadata": {},
     "output_type": "execute_result"
    }
   ],
   "source": [
    "pt_quality_with_maintenance_cost = df.groupby (['maintenance cost', 'class'])['class'].count().unstack()\n",
    "\n",
    "pt_quality_with_maintenance_cost.sort_values(by = 'vgood', ascending =False)"
   ]
  },
  {
   "cell_type": "markdown",
   "metadata": {},
   "source": [
    "**Expressing the results in percentages to make the interpretation of results easier**"
   ]
  },
  {
   "cell_type": "code",
   "execution_count": 47,
   "metadata": {
    "colab": {
     "base_uri": "https://localhost:8080/",
     "height": 206
    },
    "id": "kb1185x25Psk",
    "outputId": "4ff9c691-1454-4e82-8602-a071f5a938e2"
   },
   "outputs": [
    {
     "data": {
      "text/html": [
       "<div>\n",
       "<style scoped>\n",
       "    .dataframe tbody tr th:only-of-type {\n",
       "        vertical-align: middle;\n",
       "    }\n",
       "\n",
       "    .dataframe tbody tr th {\n",
       "        vertical-align: top;\n",
       "    }\n",
       "\n",
       "    .dataframe thead th {\n",
       "        text-align: right;\n",
       "    }\n",
       "</style>\n",
       "<table border=\"1\" class=\"dataframe\">\n",
       "  <thead>\n",
       "    <tr style=\"text-align: right;\">\n",
       "      <th>class</th>\n",
       "      <th>acc</th>\n",
       "      <th>good</th>\n",
       "      <th>unacc</th>\n",
       "      <th>vgood</th>\n",
       "      <th>Percentage Of Cars Rated Very Good</th>\n",
       "      <th>Percentage Of Cars Rated Good</th>\n",
       "    </tr>\n",
       "    <tr>\n",
       "      <th>maintenance cost</th>\n",
       "      <th></th>\n",
       "      <th></th>\n",
       "      <th></th>\n",
       "      <th></th>\n",
       "      <th></th>\n",
       "      <th></th>\n",
       "    </tr>\n",
       "  </thead>\n",
       "  <tbody>\n",
       "    <tr>\n",
       "      <th>low</th>\n",
       "      <td>92</td>\n",
       "      <td>46</td>\n",
       "      <td>268</td>\n",
       "      <td>26</td>\n",
       "      <td>40.0</td>\n",
       "      <td>67.0</td>\n",
       "    </tr>\n",
       "    <tr>\n",
       "      <th>med</th>\n",
       "      <td>115</td>\n",
       "      <td>23</td>\n",
       "      <td>268</td>\n",
       "      <td>26</td>\n",
       "      <td>40.0</td>\n",
       "      <td>33.0</td>\n",
       "    </tr>\n",
       "    <tr>\n",
       "      <th>high</th>\n",
       "      <td>105</td>\n",
       "      <td>0</td>\n",
       "      <td>314</td>\n",
       "      <td>13</td>\n",
       "      <td>20.0</td>\n",
       "      <td>0.0</td>\n",
       "    </tr>\n",
       "    <tr>\n",
       "      <th>vhigh</th>\n",
       "      <td>72</td>\n",
       "      <td>0</td>\n",
       "      <td>360</td>\n",
       "      <td>0</td>\n",
       "      <td>0.0</td>\n",
       "      <td>0.0</td>\n",
       "    </tr>\n",
       "  </tbody>\n",
       "</table>\n",
       "</div>"
      ],
      "text/plain": [
       "class             acc  good  unacc  vgood  Percentage Of Cars Rated Very Good  \\\n",
       "maintenance cost                                                                \n",
       "low                92    46    268     26                                40.0   \n",
       "med               115    23    268     26                                40.0   \n",
       "high              105     0    314     13                                20.0   \n",
       "vhigh              72     0    360      0                                 0.0   \n",
       "\n",
       "class             Percentage Of Cars Rated Good  \n",
       "maintenance cost                                 \n",
       "low                                        67.0  \n",
       "med                                        33.0  \n",
       "high                                        0.0  \n",
       "vhigh                                       0.0  "
      ]
     },
     "execution_count": 47,
     "metadata": {},
     "output_type": "execute_result"
    }
   ],
   "source": [
    "pt_quality_with_maintenance_cost['Percentage Of Cars Rated Very Good'] =((pt_quality_with_maintenance_cost['vgood']/pt_quality_with_maintenance_cost['vgood'].sum())*100).round(0)\n",
    "\n",
    "pt_quality_with_maintenance_cost['Percentage Of Cars Rated Good'] =((pt_quality_with_maintenance_cost['good']/pt_quality_with_maintenance_cost['good'].sum())*100).round(0)\n",
    "\n",
    "pt_quality_with_maintenance_cost.sort_values(by = 'Percentage Of Cars Rated Very Good', ascending = False)"
   ]
  },
  {
   "cell_type": "markdown",
   "metadata": {},
   "source": [
    "**Plotting maintenance costs with the percentage of cars rated very good**"
   ]
  },
  {
   "cell_type": "code",
   "execution_count": 48,
   "metadata": {
    "colab": {
     "base_uri": "https://localhost:8080/",
     "height": 484
    },
    "id": "DbSpsFIM5c1B",
    "outputId": "c34e51ad-e1f1-4da0-cd94-ccf25e8aae4f"
   },
   "outputs": [
    {
     "data": {
      "text/plain": [
       "<Axes: xlabel='Maintenance Prices', ylabel='Percentage Of Cars Rated Very Good'>"
      ]
     },
     "execution_count": 48,
     "metadata": {},
     "output_type": "execute_result"
    },
    {
     "data": {
      "image/png": "[encoded data removed]",
      "text/plain": [
       "<Figure size 640x480 with 1 Axes>"
      ]
     },
     "metadata": {},
     "output_type": "display_data"
    }
   ],
   "source": [
    "pt_quality_with_maintenance_cost['Percentage Of Cars Rated Very Good'].replace(0, float('nan')).sort_values(ascending=False).dropna().plot(kind='bar',xlabel='Maintenance Prices', ylabel='Percentage Of Cars Rated Very Good', color='green')"
   ]
  },
  {
   "cell_type": "markdown",
   "metadata": {},
   "source": [
    "**Plotting maintenance costs with the percentage of cars rated good**"
   ]
  },
  {
   "cell_type": "code",
   "execution_count": 49,
   "metadata": {
    "colab": {
     "base_uri": "https://localhost:8080/",
     "height": 488
    },
    "id": "rASQo4CtCCxx",
    "outputId": "2cc02fcb-bd0c-492c-e3a2-84adb0f32fc2"
   },
   "outputs": [
    {
     "data": {
      "text/plain": [
       "<Axes: xlabel='Maintenance Prices', ylabel='Percentage Of Cars Rated Good'>"
      ]
     },
     "execution_count": 49,
     "metadata": {},
     "output_type": "execute_result"
    },
    {
     "data": {
      "image/png": "[encoded data removed]",
      "text/plain": [
       "<Figure size 640x480 with 1 Axes>"
      ]
     },
     "metadata": {},
     "output_type": "display_data"
    }
   ],
   "source": [
    "pt_quality_with_maintenance_cost['Percentage Of Cars Rated Good'].replace(0, float('nan')).sort_values(ascending=False).dropna().plot(kind='bar', xlabel='Maintenance Prices', ylabel='Percentage Of Cars Rated Good', color='green')"
   ]
  },
  {
   "cell_type": "markdown",
   "metadata": {
    "id": "S8i_OQJmDAo9"
   },
   "source": [
    "**The above bar plots show that the lower the maintenace price of a car, the higher it is rated. 40% of all the cars rated very good had a low maintenance price, 40% had a medium maintenace price and just 20% had a high maintenace cost whereas 67% of all the cars rated good had a low maintenace price and 33% had a medium buying price. This is not surprising since it is expected that the cars which have a higher maintenance price would be be a headache and result in extra expenses. Recommendations: Focus on making cars with less maintenance price since they tend to be rated better.**"
   ]
  },
  {
   "cell_type": "markdown",
   "metadata": {
    "id": "BgKbfHfhDPi7"
   },
   "source": [
    "**Running sensitivity analysis**"
   ]
  },
  {
   "cell_type": "code",
   "execution_count": 50,
   "metadata": {
    "colab": {
     "base_uri": "https://localhost:8080/"
    },
    "id": "rDVXb5i4-7Ga",
    "outputId": "d75f6ace-7eb4-4891-c33c-d18a3e858285"
   },
   "outputs": [
    {
     "name": "stdout",
     "output_type": "stream",
     "text": [
      "Scenario: With 0% Changes In Maintenance Cost From Low And Medium To High\n",
      "F1 Score:\n",
      "0.942098076470022\n",
      "Classification Report:\n",
      "              precision    recall  f1-score   support\n",
      "\n",
      "           0       1.00      0.98      0.99       242\n",
      "           1       0.90      0.83      0.86        77\n",
      "           2       0.44      0.79      0.56        14\n",
      "           3       0.92      0.92      0.92        13\n",
      "\n",
      "    accuracy                           0.94       346\n",
      "   macro avg       0.82      0.88      0.84       346\n",
      "weighted avg       0.95      0.94      0.94       346\n",
      "\n",
      "==================================================\n",
      "Scenario: With 25% Changes In Maintenance Cost From Low And Medium To High\n",
      "F1 Score:\n",
      "0.9079553807130021\n",
      "Classification Report:\n",
      "              precision    recall  f1-score   support\n",
      "\n",
      "           0       0.98      0.98      0.98       242\n",
      "           1       0.79      0.83      0.81        77\n",
      "           2       0.33      0.36      0.34        14\n",
      "           3       0.89      0.62      0.73        13\n",
      "\n",
      "    accuracy                           0.91       346\n",
      "   macro avg       0.75      0.70      0.72       346\n",
      "weighted avg       0.91      0.91      0.91       346\n",
      "\n",
      "==================================================\n",
      "Scenario: With 50% Changes In Maintenance Cost From Low And Medium To High\n",
      "F1 Score:\n",
      "0.9113401821903989\n",
      "Classification Report:\n",
      "              precision    recall  f1-score   support\n",
      "\n",
      "           0       0.97      0.98      0.98       242\n",
      "           1       0.80      0.86      0.82        77\n",
      "           2       0.50      0.29      0.36        14\n",
      "           3       0.90      0.69      0.78        13\n",
      "\n",
      "    accuracy                           0.92       346\n",
      "   macro avg       0.79      0.70      0.74       346\n",
      "weighted avg       0.91      0.92      0.91       346\n",
      "\n",
      "==================================================\n",
      "Scenario: With 75% Changes In Maintenance Cost From Low And Medium To High\n",
      "F1 Score:\n",
      "0.9034736327881371\n",
      "Classification Report:\n",
      "              precision    recall  f1-score   support\n",
      "\n",
      "           0       0.98      0.98      0.98       242\n",
      "           1       0.77      0.87      0.82        77\n",
      "           2       0.43      0.21      0.29        14\n",
      "           3       0.88      0.54      0.67        13\n",
      "\n",
      "    accuracy                           0.91       346\n",
      "   macro avg       0.76      0.65      0.69       346\n",
      "weighted avg       0.90      0.91      0.90       346\n",
      "\n",
      "==================================================\n",
      "Scenario: With 100% Changes In Maintenance Cost From Low And Medium To High\n",
      "F1 Score:\n",
      "0.9026450338627136\n",
      "Classification Report:\n",
      "              precision    recall  f1-score   support\n",
      "\n",
      "           0       0.97      0.98      0.98       242\n",
      "           1       0.77      0.87      0.82        77\n",
      "           2       0.50      0.21      0.30        14\n",
      "           3       0.88      0.54      0.67        13\n",
      "\n",
      "    accuracy                           0.91       346\n",
      "   macro avg       0.78      0.65      0.69       346\n",
      "weighted avg       0.90      0.91      0.90       346\n",
      "\n",
      "==================================================\n"
     ]
    }
   ],
   "source": [
    "xgb4 = XGBClassifier(objective='multi:softmax', num_class=4, eval_metric='mlogloss',\n",
    "                     enable_categorical=True, tree_method=\"hist\", n_estimators=10)\n",
    "\n",
    "xgb4.fit(x_train_for_sa, y_train_for_sa, verbose=True)\n",
    "\n",
    "scenarios = [0, 25, 50, 75, 100]\n",
    "\n",
    "for scenario in scenarios:\n",
    "    modified_x_test_for_sa = x_test_for_sa.copy()\n",
    "    num = int(len(modified_x_test_for_sa) * (scenario / 100))\n",
    "\n",
    "    indices_to_change = np.random.choice(\n",
    "    modified_x_test_for_sa.index[(modified_x_test_for_sa['maintenance cost'] == 'low') | (modified_x_test_for_sa['maintenance cost'] == 'medium')],\n",
    "    num,\n",
    "    replace=True)\n",
    "\n",
    "    modified_x_test_for_sa.loc[indices_to_change, 'maintenance cost'] = 'high'\n",
    "\n",
    "    y_pred_test_for_sa = xgb4.predict(modified_x_test_for_sa)\n",
    "\n",
    "    f1 = f1_score(y_test_for_sa, y_pred_test_for_sa, average = 'weighted')\n",
    "    report = classification_report(y_test_for_sa, y_pred_test_for_sa)\n",
    "\n",
    "    # Print results for the scenario\n",
    "    print(f\"Scenario: With {scenario}% Changes In Maintenance Cost From Low And Medium To High\")\n",
    "    print(\"F1 Score:\")\n",
    "    print(f1)\n",
    "    print(\"Classification Report:\")\n",
    "    print(report)\n",
    "    print(\"=\" * 50)"
   ]
  },
  {
   "cell_type": "markdown",
   "metadata": {
    "id": "zz82BpyEIYLR"
   },
   "source": [
    "**The results of sensitivity analysis do not show a considerable change when the maintenance cost is altered. This rejects the observation made above that the lower the maintenance cost, the higher it is rated or in simpler terms: Maintenance cost doesn't have a significant relationship with the target variable. While there is a significant statistical relationship, the practical impact on the model's performance seems to be less pronounced.**"
   ]
  },
  {
   "cell_type": "markdown",
   "metadata": {},
   "source": [
    "**The next feature that has the strongest relationship with the target variable is 'lug boot'**"
   ]
  },
  {
   "cell_type": "markdown",
   "metadata": {},
   "source": [
    "**Making a pivot table of the cars rated good and very good to draw conclusions about how they are related to the lug boot sizes.**"
   ]
  },
  {
   "cell_type": "code",
   "execution_count": 51,
   "metadata": {
    "colab": {
     "base_uri": "https://localhost:8080/",
     "height": 175
    },
    "id": "7yWtg1xSknIc",
    "outputId": "8d2d950b-84c6-4248-97fd-47b6c90b38d0"
   },
   "outputs": [
    {
     "data": {
      "text/html": [
       "<div>\n",
       "<style scoped>\n",
       "    .dataframe tbody tr th:only-of-type {\n",
       "        vertical-align: middle;\n",
       "    }\n",
       "\n",
       "    .dataframe tbody tr th {\n",
       "        vertical-align: top;\n",
       "    }\n",
       "\n",
       "    .dataframe thead th {\n",
       "        text-align: right;\n",
       "    }\n",
       "</style>\n",
       "<table border=\"1\" class=\"dataframe\">\n",
       "  <thead>\n",
       "    <tr style=\"text-align: right;\">\n",
       "      <th>class</th>\n",
       "      <th>acc</th>\n",
       "      <th>good</th>\n",
       "      <th>unacc</th>\n",
       "      <th>vgood</th>\n",
       "    </tr>\n",
       "    <tr>\n",
       "      <th>lug boot</th>\n",
       "      <th></th>\n",
       "      <th></th>\n",
       "      <th></th>\n",
       "      <th></th>\n",
       "    </tr>\n",
       "  </thead>\n",
       "  <tbody>\n",
       "    <tr>\n",
       "      <th>big</th>\n",
       "      <td>144</td>\n",
       "      <td>24</td>\n",
       "      <td>368</td>\n",
       "      <td>40</td>\n",
       "    </tr>\n",
       "    <tr>\n",
       "      <th>med</th>\n",
       "      <td>135</td>\n",
       "      <td>24</td>\n",
       "      <td>392</td>\n",
       "      <td>25</td>\n",
       "    </tr>\n",
       "    <tr>\n",
       "      <th>small</th>\n",
       "      <td>105</td>\n",
       "      <td>21</td>\n",
       "      <td>450</td>\n",
       "      <td>0</td>\n",
       "    </tr>\n",
       "  </tbody>\n",
       "</table>\n",
       "</div>"
      ],
      "text/plain": [
       "class     acc  good  unacc  vgood\n",
       "lug boot                         \n",
       "big       144    24    368     40\n",
       "med       135    24    392     25\n",
       "small     105    21    450      0"
      ]
     },
     "execution_count": 51,
     "metadata": {},
     "output_type": "execute_result"
    }
   ],
   "source": [
    "pt_quality_with_lug_boot = df.groupby (['lug boot', 'class'])['class'].count().unstack()\n",
    "pt_quality_with_lug_boot.sort_values(by = 'vgood', ascending =False)"
   ]
  },
  {
   "cell_type": "markdown",
   "metadata": {},
   "source": [
    "**Expressing the results in percentages to make the interpretation of results easier**"
   ]
  },
  {
   "cell_type": "code",
   "execution_count": 52,
   "metadata": {
    "colab": {
     "base_uri": "https://localhost:8080/",
     "height": 175
    },
    "id": "U-27pQ9Qk0Cj",
    "outputId": "a390c90b-3537-47d5-f4a5-d7f5cbed0a8d"
   },
   "outputs": [
    {
     "data": {
      "text/html": [
       "<div>\n",
       "<style scoped>\n",
       "    .dataframe tbody tr th:only-of-type {\n",
       "        vertical-align: middle;\n",
       "    }\n",
       "\n",
       "    .dataframe tbody tr th {\n",
       "        vertical-align: top;\n",
       "    }\n",
       "\n",
       "    .dataframe thead th {\n",
       "        text-align: right;\n",
       "    }\n",
       "</style>\n",
       "<table border=\"1\" class=\"dataframe\">\n",
       "  <thead>\n",
       "    <tr style=\"text-align: right;\">\n",
       "      <th>class</th>\n",
       "      <th>acc</th>\n",
       "      <th>good</th>\n",
       "      <th>unacc</th>\n",
       "      <th>vgood</th>\n",
       "      <th>Percentage Of Cars Rated Very Good</th>\n",
       "      <th>Percentage Of Cars Rated Good</th>\n",
       "    </tr>\n",
       "    <tr>\n",
       "      <th>lug boot</th>\n",
       "      <th></th>\n",
       "      <th></th>\n",
       "      <th></th>\n",
       "      <th></th>\n",
       "      <th></th>\n",
       "      <th></th>\n",
       "    </tr>\n",
       "  </thead>\n",
       "  <tbody>\n",
       "    <tr>\n",
       "      <th>big</th>\n",
       "      <td>144</td>\n",
       "      <td>24</td>\n",
       "      <td>368</td>\n",
       "      <td>40</td>\n",
       "      <td>62.0</td>\n",
       "      <td>35.0</td>\n",
       "    </tr>\n",
       "    <tr>\n",
       "      <th>med</th>\n",
       "      <td>135</td>\n",
       "      <td>24</td>\n",
       "      <td>392</td>\n",
       "      <td>25</td>\n",
       "      <td>38.0</td>\n",
       "      <td>35.0</td>\n",
       "    </tr>\n",
       "    <tr>\n",
       "      <th>small</th>\n",
       "      <td>105</td>\n",
       "      <td>21</td>\n",
       "      <td>450</td>\n",
       "      <td>0</td>\n",
       "      <td>0.0</td>\n",
       "      <td>30.0</td>\n",
       "    </tr>\n",
       "  </tbody>\n",
       "</table>\n",
       "</div>"
      ],
      "text/plain": [
       "class     acc  good  unacc  vgood  Percentage Of Cars Rated Very Good  \\\n",
       "lug boot                                                                \n",
       "big       144    24    368     40                                62.0   \n",
       "med       135    24    392     25                                38.0   \n",
       "small     105    21    450      0                                 0.0   \n",
       "\n",
       "class     Percentage Of Cars Rated Good  \n",
       "lug boot                                 \n",
       "big                                35.0  \n",
       "med                                35.0  \n",
       "small                              30.0  "
      ]
     },
     "execution_count": 52,
     "metadata": {},
     "output_type": "execute_result"
    }
   ],
   "source": [
    "pt_quality_with_lug_boot['Percentage Of Cars Rated Very Good'] =((pt_quality_with_lug_boot['vgood']/pt_quality_with_lug_boot['vgood'].sum())*100).round(0)\n",
    "\n",
    "pt_quality_with_lug_boot['Percentage Of Cars Rated Good'] =((pt_quality_with_lug_boot['good']/pt_quality_with_lug_boot['good'].sum())*100).round(0)\n",
    "\n",
    "pt_quality_with_lug_boot.sort_values(by = 'Percentage Of Cars Rated Very Good', ascending = False)"
   ]
  },
  {
   "cell_type": "markdown",
   "metadata": {},
   "source": [
    "**Plotting lug boot sizes with the percentage of cars rated very good**"
   ]
  },
  {
   "cell_type": "code",
   "execution_count": 53,
   "metadata": {
    "colab": {
     "base_uri": "https://localhost:8080/",
     "height": 484
    },
    "id": "PLIRV31imRpq",
    "outputId": "752cd000-ed1b-48b6-d9ce-b601fe495871"
   },
   "outputs": [
    {
     "data": {
      "text/plain": [
       "<Axes: xlabel='Lug Boot Sizes', ylabel='Percentage Of Cars Rated Very Good'>"
      ]
     },
     "execution_count": 53,
     "metadata": {},
     "output_type": "execute_result"
    },
    {
     "data": {
      "image/png": "[encoded data removed]",
      "text/plain": [
       "<Figure size 640x480 with 1 Axes>"
      ]
     },
     "metadata": {},
     "output_type": "display_data"
    }
   ],
   "source": [
    "pt_quality_with_lug_boot['Percentage Of Cars Rated Very Good'].replace(0, float('nan')).sort_values(ascending=False).dropna().plot(kind='bar', xlabel='Lug Boot Sizes', ylabel='Percentage Of Cars Rated Very Good', color='green')"
   ]
  },
  {
   "cell_type": "markdown",
   "metadata": {},
   "source": [
    "**Plotting buying prices with the percentage of cars rated good**"
   ]
  },
  {
   "cell_type": "code",
   "execution_count": 54,
   "metadata": {
    "colab": {
     "base_uri": "https://localhost:8080/",
     "height": 490
    },
    "id": "fae4PVSzJ78V",
    "outputId": "045a7803-bc88-45ae-c84b-5013c1b657a0"
   },
   "outputs": [
    {
     "data": {
      "text/plain": [
       "<Axes: xlabel='Lug Boot Sizes', ylabel='Percentage Of Cars Rated Good'>"
      ]
     },
     "execution_count": 54,
     "metadata": {},
     "output_type": "execute_result"
    },
    {
     "data": {
      "image/png": "[encoded data removed]",
      "text/plain": [
       "<Figure size 640x480 with 1 Axes>"
      ]
     },
     "metadata": {},
     "output_type": "display_data"
    }
   ],
   "source": [
    "pt_quality_with_lug_boot['Percentage Of Cars Rated Good'].replace(0, float('nan')).sort_values(ascending=False).dropna().plot(kind='bar', xlabel='Lug Boot Sizes', ylabel='Percentage Of Cars Rated Good', color='green')"
   ]
  },
  {
   "cell_type": "markdown",
   "metadata": {
    "id": "enZQiPByKdz2"
   },
   "source": [
    "**The bar plot above shows that the bigger the lug boot the higher the car is rated. Of all cars the rated very good, 62% had big lug boots and 38% had medium lug boots whereas of all cars the rated good, 35% had big lug boots, 35% had medium lug boots and 30% had small lug boots. Recommendations: Make cars with bigger lug boots to achieve higher ratings.**"
   ]
  },
  {
   "cell_type": "markdown",
   "metadata": {},
   "source": [
    "**Running sensitivity analysis**"
   ]
  },
  {
   "cell_type": "code",
   "execution_count": 55,
   "metadata": {
    "colab": {
     "base_uri": "https://localhost:8080/"
    },
    "id": "MiMzAaFmmd8Q",
    "outputId": "595413a7-fd69-4fc9-a4bb-74d27915b96d"
   },
   "outputs": [
    {
     "name": "stdout",
     "output_type": "stream",
     "text": [
      "Scenario: With 0% Changes In Lug Boot Size From Big To Small\n",
      "F1 Score:\n",
      "0.942098076470022\n",
      "Classification Report:\n",
      "              precision    recall  f1-score   support\n",
      "\n",
      "           0       1.00      0.98      0.99       242\n",
      "           1       0.90      0.83      0.86        77\n",
      "           2       0.44      0.79      0.56        14\n",
      "           3       0.92      0.92      0.92        13\n",
      "\n",
      "    accuracy                           0.94       346\n",
      "   macro avg       0.82      0.88      0.84       346\n",
      "weighted avg       0.95      0.94      0.94       346\n",
      "\n",
      "==================================================\n",
      "Scenario: With 25% Changes In Lug Boot Size From Big To Small\n",
      "F1 Score:\n",
      "0.9114733034365118\n",
      "Classification Report:\n",
      "              precision    recall  f1-score   support\n",
      "\n",
      "           0       0.97      0.98      0.97       242\n",
      "           1       0.88      0.74      0.80        77\n",
      "           2       0.40      0.71      0.51        14\n",
      "           3       0.91      0.77      0.83        13\n",
      "\n",
      "    accuracy                           0.91       346\n",
      "   macro avg       0.79      0.80      0.78       346\n",
      "weighted avg       0.92      0.91      0.91       346\n",
      "\n",
      "==================================================\n",
      "Scenario: With 50% Changes In Lug Boot Size From Big To Small\n",
      "F1 Score:\n",
      "0.8768328759658239\n",
      "Classification Report:\n",
      "              precision    recall  f1-score   support\n",
      "\n",
      "           0       0.94      0.98      0.96       242\n",
      "           1       0.84      0.64      0.73        77\n",
      "           2       0.35      0.64      0.45        14\n",
      "           3       0.89      0.62      0.73        13\n",
      "\n",
      "    accuracy                           0.88       346\n",
      "   macro avg       0.75      0.72      0.72       346\n",
      "weighted avg       0.89      0.88      0.88       346\n",
      "\n",
      "==================================================\n",
      "Scenario: With 75% Changes In Lug Boot Size From Big To Small\n",
      "F1 Score:\n",
      "0.8791972742326852\n",
      "Classification Report:\n",
      "              precision    recall  f1-score   support\n",
      "\n",
      "           0       0.94      0.98      0.96       242\n",
      "           1       0.86      0.65      0.74        77\n",
      "           2       0.38      0.79      0.51        14\n",
      "           3       0.86      0.46      0.60        13\n",
      "\n",
      "    accuracy                           0.88       346\n",
      "   macro avg       0.76      0.72      0.70       346\n",
      "weighted avg       0.90      0.88      0.88       346\n",
      "\n",
      "==================================================\n",
      "Scenario: With 100% Changes In Lug Boot Size From Big To Small\n",
      "F1 Score:\n",
      "0.8664278650487582\n",
      "Classification Report:\n",
      "              precision    recall  f1-score   support\n",
      "\n",
      "           0       0.93      0.98      0.96       242\n",
      "           1       0.84      0.62      0.72        77\n",
      "           2       0.34      0.71      0.47        14\n",
      "           3       0.83      0.38      0.53        13\n",
      "\n",
      "    accuracy                           0.87       346\n",
      "   macro avg       0.74      0.68      0.67       346\n",
      "weighted avg       0.89      0.87      0.87       346\n",
      "\n",
      "==================================================\n"
     ]
    }
   ],
   "source": [
    "xgb5 = XGBClassifier(objective='multi:softmax', num_class=4,\n",
    "                     eval_metric='mlogloss', enable_categorical=True, tree_method=\"hist\",\n",
    "                     n_estimators=10)\n",
    "\n",
    "xgb5.fit(x_train_for_sa, y_train_for_sa, verbose=True)\n",
    "\n",
    "scenarios = [0, 25, 50, 75, 100]\n",
    "\n",
    "for scenario in scenarios:\n",
    "    modified_x_test_for_sa = x_test_for_sa.copy()\n",
    "    num = int(len(modified_x_test_for_sa) * (scenario / 100))\n",
    "\n",
    "    indices_to_change = np.random.choice(\n",
    "        modified_x_test_for_sa.index[modified_x_test_for_sa['lug boot'] == 'big'],\n",
    "        num,\n",
    "        replace=True)\n",
    "\n",
    "    modified_x_test_for_sa.loc[indices_to_change, 'lug boot'] = 'small'\n",
    "\n",
    "    y_pred_test_for_sa = xgb5.predict(modified_x_test_for_sa)\n",
    "\n",
    "    f1 = f1_score(y_test_for_sa, y_pred_test_for_sa, average = 'weighted')\n",
    "    report = classification_report(y_test_for_sa, y_pred_test_for_sa)\n",
    "\n",
    "    print(f\"Scenario: With {scenario}% Changes In Lug Boot Size From Big To Small\")\n",
    "    print(\"F1 Score:\")\n",
    "    print(f1)\n",
    "    print(\"Classification Report:\")\n",
    "    print(report)\n",
    "    print(\"=\" * 50)"
   ]
  },
  {
   "cell_type": "markdown",
   "metadata": {
    "id": "o9iPRvzDLo94"
   },
   "source": [
    "**The results of sensitivity analysis show a considerable change when the lug boot size is altered. This supports the observation made earlier that the cars with a bigger lug boots price are rated higher.**"
   ]
  },
  {
   "cell_type": "markdown",
   "metadata": {
    "id": "pSQbz2mBMQX9"
   },
   "source": [
    "**Final conclusions and recommendations: Cars that have a higher safety level, can accomodate 4 or more people, have low buying price and have a bigger lug boot size are rated higher so try making cars with these specs to achieve a higher rating. Strongest relationship with the car rating was found with safety level, followed by number of persons it can accomodate, buying price and lug boot size.**"
   ]
  },
  {
   "cell_type": "code",
   "execution_count": null,
   "metadata": {},
   "outputs": [],
   "source": []
  }
 ],
 "metadata": {
  "colab": {
   "provenance": []
  },
  "kernelspec": {
   "display_name": "Python 3 (ipykernel)",
   "language": "python",
   "name": "python3"
  },
  "language_info": {
   "codemirror_mode": {
    "name": "ipython",
    "version": 3
   },
   "file_extension": ".py",
   "mimetype": "text/x-python",
   "name": "python",
   "nbconvert_exporter": "python",
   "pygments_lexer": "ipython3",
   "version": "3.11.7"
  }
 },
 "nbformat": 4,
 "nbformat_minor": 1
}
